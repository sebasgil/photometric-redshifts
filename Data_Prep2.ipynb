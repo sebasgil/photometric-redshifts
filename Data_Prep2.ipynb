{
 "cells": [
  {
   "cell_type": "code",
   "execution_count": 2,
   "id": "instructional-school",
   "metadata": {},
   "outputs": [],
   "source": [
    "# import tensorflow as tf\n",
    "import numpy as np\n",
    "import matplotlib.pyplot as plt\n",
    "import matplotlib.image as mpimg\n",
    "%matplotlib inline\n",
    "import glob\n",
    "import nums_from_string\n",
    "from sklearn.model_selection import train_test_split"
   ]
  },
  {
   "cell_type": "code",
   "execution_count": 95,
   "id": "duplicate-canadian",
   "metadata": {},
   "outputs": [],
   "source": [
    "def get_redshifts(filelist, number_of_images = 57720, rot = False, flip = False):\n",
    "    num_string = nums_from_string.get_nums(filelist[0])\n",
    "    if len(num_string) == 2:\n",
    "        z = np.array(num_string[1])\n",
    "    if len(num_string) == 3:\n",
    "        z = np.array(num_string[1]*10**(num_string[2]))\n",
    "    if rot:\n",
    "        for j in [1,2,3]:\n",
    "            if len(num_string) == 2:\n",
    "                z = np.append(z, num_string[1])\n",
    "            if len(num_string) == 3:\n",
    "                z = np.append(z, num_string[1]*10**(num_string[2]))\n",
    "    if flip:\n",
    "        if len(num_string) == 2:\n",
    "            z = np.append(z, num_string[1])\n",
    "        if len(num_string) == 3:\n",
    "            z = np.append(z, num_string[1]*10**(num_string[2]))\n",
    "        if rot:\n",
    "            for j in [1,2,3]:\n",
    "                if len(num_string) == 2:\n",
    "                    z = np.append(z, num_string[1])\n",
    "                if len(num_string) == 3:\n",
    "                    z = np.append(z, num_string[1]*10**(num_string[2]))\n",
    "    for i in np.arange(1,number_of_images):\n",
    "        num_string = nums_from_string.get_nums(filelist[i])\n",
    "        if len(num_string) == 2:\n",
    "            z = np.append(z, num_string[1])\n",
    "        if len(num_string) == 3:\n",
    "            z = np.append(z, num_string[1]*10**(num_string[2]))\n",
    "        if rot:\n",
    "            for j in [1,2,3]:\n",
    "                if len(num_string) == 2:\n",
    "                    z = np.append(z, num_string[1])\n",
    "                if len(num_string) == 3:\n",
    "                    z = np.append(z, num_string[1]*10**(num_string[2]))\n",
    "        if flip:\n",
    "            if len(num_string) == 2:\n",
    "                z = np.append(z, num_string[1])\n",
    "            if len(num_string) == 3:\n",
    "                z = np.append(z, num_string[1]*10**(num_string[2]))\n",
    "            if rot:\n",
    "                for j in [1,2,3]:\n",
    "                    if len(num_string) == 2:\n",
    "                        z = np.append(z, num_string[1])\n",
    "                    if len(num_string) == 3:\n",
    "                        z = np.append(z, num_string[1]*10**(num_string[2]))              \n",
    "    return z\n",
    "\n",
    "def get_images(filelist, number_of_images = 57720, rot = False, flip = False):\n",
    "    _ = np.expand_dims(mpimg.imread(filelist[0]).astype(float), axis = 0)\n",
    "    jpgs = _\n",
    "    \n",
    "    if rot:\n",
    "        for j in [1,2,3]:\n",
    "            _ = np.rot90(_, j, axes = (1,2))\n",
    "            jpgs = np.concatenate((jpgs, _))\n",
    "                \n",
    "    if flip:\n",
    "        _ = np.flip(_, 1)\n",
    "        jpgs = np.concatenate((jpgs, _))\n",
    "        if rot:\n",
    "            for j in [1,2,3]:\n",
    "                _ = np.rot90(_, j, axes = (1,2))\n",
    "                jpgs = np.concatenate((jpgs, _))\n",
    "                \n",
    "    x=1\n",
    "    y=1\n",
    "    w = number_of_images\n",
    "    mod = w/100\n",
    "    \n",
    "    for i in filelist[1:number_of_images]:\n",
    "        \n",
    "        if int(x % mod) == 0:\n",
    "            print(y)\n",
    "            y = y+1\n",
    "        \n",
    "        _ = np.expand_dims(mpimg.imread(i), axis = 0)\n",
    "        jpgs = np.concatenate((jpgs, _))\n",
    "        \n",
    "        if rot:\n",
    "            for j in [1,2,3]:\n",
    "                _ = np.rot90(_, j, axes = (1,2))\n",
    "                jpgs = np.concatenate((jpgs, _))\n",
    "                \n",
    "        if flip:\n",
    "            _ = np.flip(_, 1)\n",
    "            jpgs = np.concatenate((jpgs, _))\n",
    "            if rot:\n",
    "                for j in [1,2,3]:\n",
    "                    _ = np.rot90(_, j, axes = (1,2))\n",
    "                    jpgs = np.concatenate((jpgs, _))\n",
    "        x = x+1\n",
    "                    \n",
    "    z = get_redshifts(filelist, number_of_images, rot, flip)\n",
    "    return jpgs, z\n",
    "    \n",
    "def center_crop(a, width = 60):\n",
    "    x = int(36-width/2)\n",
    "    y = int(36+width/2)\n",
    "    a = a[:,x:y,x:y,:]\n",
    "    return a\n",
    "\n",
    "def random_crop(a, width = 60):\n",
    "    m = width/2\n",
    "    n = 72 - width/2\n",
    "    b = np.zeros((len(a), width, width, 3))\n",
    "    for i in np.arange(len(b)):\n",
    "        z = np.random.randint(m,n)\n",
    "        x = int(z-width/2)\n",
    "        y = int(z+width/2)\n",
    "        b[i] = a[i,x:y,x:y,:]\n",
    "    return b\n",
    "\n",
    "def crop(a, width = 60):\n",
    "    m = width//2\n",
    "    n = 72 - width//2\n",
    "    b = np.zeros((len(a), width, width, 3))\n",
    "    c = np.zeros((width, width))\n",
    "    for i in np.arange(len(a)):\n",
    "        c = np.sum(a[i], axis = 2)\n",
    "        ind = list(np.unravel_index(np.argmax(c, axis=None), c.shape))\n",
    "       \tfor j in [0,1]:\n",
    "            if ind[j] < m:\n",
    "                ind[j] = m\n",
    "            elif ind[j] > n:\n",
    "                ind[j] = n\n",
    "        x0 = ind[0]-m\n",
    "        x1 = x0+width\n",
    "        y0 = ind[1]-m\n",
    "        y1 = y0+width\n",
    "        b[i] = a[i,x0:x1,y0:y1,:]\n",
    "    return b\n",
    "    \n",
    "def unison_shuffle(a, b):\n",
    "    assert len(a) == len(b)\n",
    "    p = np.random.permutation(len(a))\n",
    "    return a[p], b[p]\n",
    "\n",
    "def rescaling(data):\n",
    "    data = data\n",
    "    for i in np.arange(len(data)):\n",
    "        data[i] = np.amax(data[i]) - data[i]\n",
    "        data[i] = data[i] / np.amax(data[i])\n",
    "    return data\n",
    "\n",
    "def reshape(a, width):\n",
    "    length = len(a)\n",
    "    return np.reshape(a, (length,(width**2)*3))\n",
    "\n",
    "def split(data, targets, trainsplit = 0.6, valsplit = 0.2, shuffle=True):\n",
    "    train, test, traintar, testtar = train_test_split(data, targets, train_size=trainsplit+valsplit, shuffle=shuffle)\n",
    "    train, val, traintar, valtar = train_test_split(train, traintar, train_size=trainsplit/(trainsplit+valsplit), shuffle=shuffle) \n",
    "    return train, val, test, traintar, valtar, testtar\n",
    "\n",
    "def data_prep(num = 57720, width = 60, train_split= 0.6, val_split = 0.2, rot = False, flip = False, shuf = False, ran_crop = False, cen_crop = False):\n",
    "    # np.random.seed(1684)\n",
    "    filelist = glob.glob(\"sdss_images/*.jpg\")\n",
    "    print('Reading Data')\n",
    "    dat, tar = get_images(filelist, num, rot, flip)\n",
    "    print('Rescaling')\n",
    "    dat = rescaling(dat)\n",
    "    print('Cropping images')\n",
    "    if ran_crop:\n",
    "        dat = random_crop(dat, width)\n",
    "    elif cen_crop:\n",
    "        dat = center_crop(dat, width)   \n",
    "    else:\n",
    "        dat = crop(dat, width)\n",
    "    if shuf:\n",
    "        dat, tar = unison_shuffle(dat, tar)\n",
    "    dat = reshape(dat,width)\n",
    "    print('Spliting Data')\n",
    "    if shuf:\n",
    "        train, val, testtest, train_tar, val_tar, test_tar = split(dat, tar, train_split, val_split, shuffle = False)\n",
    "    else:\n",
    "        train, val, testtest, train_tar, val_tar, test_tar = split(dat, tar, train_split, val_split)\n",
    "    return train, val, testtest, train_tar, val_tar, test_tar"
   ]
  },
  {
   "cell_type": "code",
   "execution_count": 4,
   "id": "directed-lucas",
   "metadata": {},
   "outputs": [
    {
     "name": "stdout",
     "output_type": "stream",
     "text": [
      "(2999, 10800) (1001, 10800) (1000, 10800) (2999,) (1001,) (1000,)\n"
     ]
    }
   ],
   "source": [
    "train, val, test, train_tar, val_tar, test_tar = data_prep(num = 5000, width = 60)\n",
    "print(np.shape(train), np.shape(val), np.shape(test), np.shape(train_tar), np.shape(val_tar), np.shape(test_tar))"
   ]
  },
  {
   "cell_type": "code",
   "execution_count": 5,
   "id": "limiting-commerce",
   "metadata": {},
   "outputs": [],
   "source": [
    "from sklearn.ensemble import GradientBoostingRegressor\n",
    "from sklearn.metrics import accuracy_score\n",
    "from hyperopt import fmin, tpe, hp, STATUS_OK, Trials"
   ]
  },
  {
   "cell_type": "code",
   "execution_count": 6,
   "id": "narrative-oakland",
   "metadata": {
    "scrolled": true
   },
   "outputs": [],
   "source": [
    "def objective(hyperparameters):\n",
    "    if hyperparameters['max_depth'] == 0:\n",
    "        hyperparameters['max_depth'] = 1\n",
    "    if hyperparameters['n_estimators'] == 0:\n",
    "        hyperparameters['n_estimators'] = 1\n",
    "    if hyperparameters['min_samples_split'] == 0:\n",
    "        hyperparameters['min_samples_split'] = 1\n",
    "    if hyperparameters['min_samples_leaf'] == 0:\n",
    "        hyperparameters['min_samples_leaf'] = 1\n",
    "    gbr = GradientBoostingRegressor(**hyperparameters)\n",
    "    gbr.fit(train, train_tar)\n",
    "    \n",
    "    a = gbr.predict(val)\n",
    "    b = val_tar\n",
    "    c = np.sum(np.sqrt(np.abs(a-b)))\n",
    "    \n",
    "    return {'loss':c, 'status': STATUS_OK}"
   ]
  },
  {
   "cell_type": "code",
   "execution_count": 7,
   "id": "internal-waterproof",
   "metadata": {},
   "outputs": [],
   "source": [
    "space ={\n",
    "    'loss': hp.choice('loss', ['ls', 'huber', 'lad']),\n",
    "    'criterion': hp.choice('criterion', ['friedman_mse', 'mse']),\n",
    "    'learning_rate': hp.loguniform('learning_rate', np.log(0.01), np.log(0.4)),\n",
    "    'n_estimators': hp.randint('n_estimators', 150),\n",
    "    'min_samples_split': hp.randint('min_samples_split', 50),\n",
    "    'min_samples_leaf': hp.randint('min_samples_leaf', 51),\n",
    "    'max_depth': hp.randint('max_depth', 16)\n",
    "}"
   ]
  },
  {
   "cell_type": "code",
   "execution_count": 8,
   "id": "suffering-worker",
   "metadata": {},
   "outputs": [],
   "source": [
    "bayes_trials = Trials()"
   ]
  },
  {
   "cell_type": "code",
   "execution_count": 9,
   "id": "divided-surfing",
   "metadata": {},
   "outputs": [],
   "source": [
    "tpe_alg = tpe.suggest"
   ]
  },
  {
   "cell_type": "code",
   "execution_count": 13,
   "id": "fourth-exception",
   "metadata": {
    "collapsed": true
   },
   "outputs": [
    {
     "name": "stdout",
     "output_type": "stream",
     "text": [
      "100%|█████████████████████████████████████████████| 50/50 [7:27:56<00:00, 959.88s/trial, best loss: 189.47972682302768]\n"
     ]
    }
   ],
   "source": [
    "MAX_EVALS = 50\n",
    "\n",
    "best = fmin(objective, space = space, \n",
    "            algo = tpe.suggest, max_evals=MAX_EVALS, trials=bayes_trials)"
   ]
  },
  {
   "cell_type": "code",
   "execution_count": 16,
   "id": "civil-arthritis",
   "metadata": {
    "collapsed": true
   },
   "outputs": [
    {
     "name": "stdout",
     "output_type": "stream",
     "text": [
      "{'criterion': 0, 'learning_rate': 0.05184643843759477, 'loss': 1, 'max_depth': 14, 'min_samples_leaf': 12, 'min_samples_split': 43, 'n_estimators': 77}\n"
     ]
    }
   ],
   "source": [
    "print(best)"
   ]
  },
  {
   "cell_type": "code",
   "execution_count": 18,
   "id": "dressed-beaver",
   "metadata": {
    "collapsed": true
   },
   "outputs": [
    {
     "data": {
      "text/plain": [
       "GradientBoostingRegressor(learning_rate=0.52, loss='huber', max_depth=14,\n",
       "                          min_samples_leaf=12, min_samples_split=43,\n",
       "                          n_estimators=77)"
      ]
     },
     "execution_count": 18,
     "metadata": {},
     "output_type": "execute_result"
    }
   ],
   "source": [
    "gbr1 = GradientBoostingRegressor(loss = 'huber', criterion='friedman_mse', \n",
    "                                 learning_rate = 0.52, max_depth = 14, min_samples_leaf=12, \n",
    "                                 min_samples_split=43, n_estimators=77)\n",
    "gbr1.fit(train, train_tar)"
   ]
  },
  {
   "cell_type": "code",
   "execution_count": 99,
   "id": "excess-boring",
   "metadata": {
    "collapsed": true
   },
   "outputs": [
    {
     "name": "stdout",
     "output_type": "stream",
     "text": [
      "[0.1565693  0.16869738 0.14757276 ... 0.46522716 0.44723541 0.01768261]\n"
     ]
    },
    {
     "data": {
      "text/plain": [
       "0.48714080055029674"
      ]
     },
     "execution_count": 99,
     "metadata": {},
     "output_type": "execute_result"
    }
   ],
   "source": [
    "pred_val = gbr1.predict(val)\n",
    "devia = np.abs(pred - val_tar)\n",
    "devia_perc = devia / val_tar\n",
    "print(devia_perc)\n",
    "np.sqrt(np.mean(devia**2))"
   ]
  },
  {
   "cell_type": "code",
   "execution_count": 100,
   "id": "adverse-effort",
   "metadata": {
    "collapsed": true
   },
   "outputs": [
    {
     "data": {
      "text/plain": [
       "Text(0.5, 0, 'deviation')"
      ]
     },
     "execution_count": 100,
     "metadata": {},
     "output_type": "execute_result"
    },
    {
     "data": {
      "image/png": "[encoded data removed]",
      "text/plain": [
       "<Figure size 432x288 with 1 Axes>"
      ]
     },
     "metadata": {
      "needs_background": "light"
     },
     "output_type": "display_data"
    }
   ],
   "source": [
    "plt.hist(devia, 100, (0,0.3))\n",
    "plt.xlabel('deviation')"
   ]
  },
  {
   "cell_type": "code",
   "execution_count": 102,
   "id": "touched-newport",
   "metadata": {
    "collapsed": true
   },
   "outputs": [
    {
     "data": {
      "text/plain": [
       "<matplotlib.legend.Legend at 0x22d15f47640>"
      ]
     },
     "execution_count": 102,
     "metadata": {},
     "output_type": "execute_result"
    },
    {
     "data": {
      "image/png": "[encoded data removed]",
      "text/plain": [
       "<Figure size 432x288 with 1 Axes>"
      ]
     },
     "metadata": {
      "needs_background": "light"
     },
     "output_type": "display_data"
    }
   ],
   "source": [
    "plt.hist(pred_val,100, (0,1), alpha = 0.5, label = 'prediction')\n",
    "plt.hist(val_tar,100, (0,1), alpha = 0.5, label = 'target')\n",
    "plt.xlabel('z')\n",
    "plt.legend()\n",
    "plt.savefig('Val_Dist')"
   ]
  },
  {
   "cell_type": "code",
   "execution_count": 105,
   "id": "likely-contamination",
   "metadata": {
    "collapsed": true
   },
   "outputs": [
    {
     "data": {
      "text/plain": [
       "Text(0.5, 1.0, 'Validation')"
      ]
     },
     "execution_count": 105,
     "metadata": {},
     "output_type": "execute_result"
    },
    {
     "data": {
      "image/png": "[encoded data removed]",
      "text/plain": [
       "<Figure size 432x288 with 1 Axes>"
      ]
     },
     "metadata": {
      "needs_background": "light"
     },
     "output_type": "display_data"
    }
   ],
   "source": [
    "plt.scatter(pred_val, val_tar, alpha = 0.4)\n",
    "plt.plot([0,1],[0,1], colors = 'black')\n",
    "plt.xlabel('Predictions')\n",
    "plt.xlim((0,1))\n",
    "plt.ylim((0,1))\n",
    "plt.ylabel('Targets')\n",
    "plt.title('Validation')\n",
    "plt.savefig('Val_Pedict')"
   ]
  },
  {
   "cell_type": "code",
   "execution_count": 112,
   "id": "incomplete-gospel",
   "metadata": {
    "collapsed": true
   },
   "outputs": [
    {
     "data": {
      "text/plain": [
       "Text(0.5, 1.0, 'Test')"
      ]
     },
     "execution_count": 112,
     "metadata": {},
     "output_type": "execute_result"
    },
    {
     "data": {
      "image/png": "[encoded data removed]",
      "text/plain": [
       "<Figure size 432x288 with 1 Axes>"
      ]
     },
     "metadata": {
      "needs_background": "light"
     },
     "output_type": "display_data"
    }
   ],
   "source": [
    "pred_test = gbr1.predict(test)\n",
    "plt.scatter(pred_test, test_tar, alpha = 0.4, colors = 'black')\n",
    "plt.plot([0,1],[0,1])\n",
    "plt.xlim((0,1))\n",
    "plt.ylim((0,1))\n",
    "plt.xlabel('Predictions')\n",
    "plt.ylabel('Targets')\n",
    "plt.title('Test')\n",
    "plt.savefig('Test_Predict')"
   ]
  },
  {
   "cell_type": "code",
   "execution_count": 113,
   "id": "polar-winter",
   "metadata": {
    "collapsed": true
   },
   "outputs": [
    {
     "name": "stdout",
     "output_type": "stream",
     "text": [
      "Reading Data\n",
      "1\n",
      "2\n",
      "3\n",
      "4\n",
      "5\n",
      "6\n",
      "7\n",
      "8\n",
      "9\n",
      "10\n",
      "11\n",
      "12\n",
      "13\n",
      "14\n",
      "15\n",
      "16\n",
      "17\n",
      "18\n",
      "19\n",
      "20\n",
      "21\n",
      "22\n",
      "23\n",
      "24\n",
      "25\n",
      "26\n",
      "27\n",
      "28\n",
      "29\n",
      "30\n",
      "31\n",
      "32\n",
      "33\n",
      "34\n",
      "35\n",
      "36\n",
      "37\n",
      "38\n",
      "39\n",
      "40\n",
      "41\n",
      "42\n",
      "43\n",
      "44\n",
      "45\n",
      "46\n",
      "47\n",
      "48\n",
      "49\n",
      "50\n",
      "51\n",
      "52\n",
      "53\n",
      "54\n",
      "55\n",
      "56\n",
      "57\n",
      "58\n",
      "59\n",
      "60\n",
      "61\n",
      "62\n",
      "63\n",
      "64\n",
      "65\n",
      "66\n",
      "67\n",
      "68\n",
      "69\n",
      "70\n",
      "71\n",
      "72\n",
      "73\n",
      "74\n",
      "75\n",
      "76\n",
      "77\n",
      "78\n",
      "79\n",
      "80\n",
      "81\n",
      "82\n",
      "83\n",
      "84\n",
      "85\n",
      "86\n",
      "87\n",
      "88\n",
      "89\n",
      "90\n",
      "91\n",
      "92\n",
      "93\n",
      "94\n",
      "95\n",
      "96\n",
      "97\n",
      "98\n",
      "99\n",
      "Rescaling\n",
      "Cropping images\n",
      "Spliting Data\n"
     ]
    }
   ],
   "source": [
    "train_f, val_f, test_f, train_tar_f, val_tar_f, test_tar_f = data_prep(train_split=0.8, val_split=0.001)"
   ]
  },
  {
   "cell_type": "code",
   "execution_count": 114,
   "id": "cordless-freeware",
   "metadata": {},
   "outputs": [
    {
     "data": {
      "text/plain": [
       "GradientBoostingRegressor(learning_rate=0.52, loss='huber', max_depth=14,\n",
       "                          min_samples_leaf=12, min_samples_split=43,\n",
       "                          n_estimators=77)"
      ]
     },
     "execution_count": 114,
     "metadata": {},
     "output_type": "execute_result"
    }
   ],
   "source": [
    "gbr_f = GradientBoostingRegressor(loss = 'huber', criterion='friedman_mse', \n",
    "                                 learning_rate = 0.52, max_depth = 14, min_samples_leaf=12, \n",
    "                                 min_samples_split=43, n_estimators=77)\n",
    "gbr_f.fit(train_f, train_tar_f)"
   ]
  },
  {
   "cell_type": "code",
   "execution_count": 94,
   "id": "obvious-flight",
   "metadata": {
    "collapsed": true
   },
   "outputs": [
    {
     "name": "stdout",
     "output_type": "stream",
     "text": [
      "[1.07629e-01 9.32712e-02 2.96518e-02 6.27670e-02 1.77191e-01 3.78682e-01\n",
      " 2.45329e-01 2.01028e-01 1.85275e-01 1.54909e-01 4.26993e-01 1.01232e-01\n",
      " 4.11659e-01 1.54206e-01 8.64655e-02 1.35554e-01 1.65802e-01 3.40599e-01\n",
      " 9.42061e-02 2.03224e-01 2.14548e-01 7.45248e-02 2.80704e-02 6.06830e-02\n",
      " 7.97516e-02 1.93469e-01 1.92091e-01 1.02789e-01 2.42140e-01 7.23853e-02\n",
      " 1.13293e-01 1.55562e-01 6.21721e-02 1.21154e-01 9.35557e-02 1.91654e-01\n",
      " 1.54030e-01 8.06582e-02 1.74050e-01 1.21902e-01 1.16919e-04 3.97817e-01\n",
      " 3.69824e-01 8.26984e-02 3.72977e-01 2.07861e-01 1.02818e-01 8.06183e-02\n",
      " 1.56971e-01 1.96482e-01 2.65986e-01 9.85964e-02 8.14887e-02 1.02503e-01\n",
      " 5.50072e-02 2.29181e-05 9.87905e-02 1.27305e-01 1.41100e-01 1.28601e-01\n",
      " 9.91663e-02 8.62614e-02 1.02663e-01 8.35386e-02 6.70942e-02 9.58625e-02\n",
      " 2.42678e-01 2.00655e-01 9.27522e-02 7.82815e-02 1.22900e-01 1.03157e-01\n",
      " 1.82126e-01 8.26856e-02 8.72169e-02 3.62558e-01 6.28708e-01 6.18287e-02\n",
      " 4.14493e-02]\n"
     ]
    }
   ],
   "source": [
    "print(train_tar_f)"
   ]
  },
  {
   "cell_type": "code",
   "execution_count": null,
   "id": "german-cannon",
   "metadata": {},
   "outputs": [],
   "source": [
    "pred_test_f = gbr_f.predict(test_f)\n",
    "plt.scatter(test_tar_f, pred_test_f, alpha = 0.4)\n",
    "plt.plot([0,1],[0,1], color = 'black')\n",
    "plt.xlim((0,1))\n",
    "plt.ylim((0,1))\n",
    "plt.xlabel('Targets')\n",
    "plt.ylabel('Predictions')\n",
    "plt.title('Test Final Run')\n",
    "plt.savefig('Test_Predict_f')"
   ]
  },
  {
   "cell_type": "code",
   "execution_count": 125,
   "id": "robust-attempt",
   "metadata": {},
   "outputs": [
    {
     "data": {
      "image/png": "[encoded data removed]",
      "text/plain": [
       "<Figure size 432x288 with 1 Axes>"
      ]
     },
     "metadata": {
      "needs_background": "light"
     },
     "output_type": "display_data"
    }
   ],
   "source": [
    "pred_train_f = gbr_f.predict(train_f)\n",
    "plt.scatter(train_tar_f, pred_train_f, alpha = 0.4)\n",
    "plt.plot([0,1],[0,1], color = 'black')\n",
    "plt.xlim((0,1))\n",
    "plt.ylim((0,1))\n",
    "plt.xlabel('Targets')\n",
    "plt.ylabel('Predictions')\n",
    "plt.title('Test Final Run')\n",
    "plt.savefig('Train_Predict_f')"
   ]
  },
  {
   "cell_type": "code",
   "execution_count": null,
   "id": "cheap-maria",
   "metadata": {},
   "outputs": [],
   "source": [
    "gbr_f_1 = GradientBoostingRegressor(loss = 'huber', criterion='friedman_mse', \n",
    "                                 learning_rate = 0.52, max_depth = 14, min_samples_leaf=180, \n",
    "                                 min_samples_split=650, n_estimators=77)\n",
    "gbr_f_1.fit(train_f, train_tar_f)"
   ]
  },
  {
   "cell_type": "code",
   "execution_count": 13,
   "id": "suspended-policy",
   "metadata": {},
   "outputs": [],
   "source": [
    "import numpy as np\n",
    "import matplotlib.pyplot as plt\n",
    "import matplotlib.image as mpimg\n",
    "%matplotlib inline\n",
    "import glob\n",
    "import nums_from_string\n",
    "from sklearn.model_selection import train_test_split\n",
    "from sklearn.ensemble import RandomForestRegressor\n",
    "from sklearn.neural_network import MLPRegressor\n",
    "from statistics import mode, median\n",
    "from tensorflow.keras.models import Sequential\n",
    "from tensorflow.keras.utils import to_categorical\n",
    "from tensorflow.keras.layers import Dense, Conv2D, MaxPooling2D, Dropout, Flatten, BatchNormalization\n",
    "import tensorflow as tf\n",
    "\n",
    "def createHoyleModel():\n",
    "    model = Sequential()\n",
    "    model.add(Conv2D(10, (3, 3), padding='same', activation='relu', input_shape=(60,60,3)))\n",
    "    model.add(MaxPooling2D(pool_size=(3, 3)))\n",
    "    model.add(BatchNormalization())\n",
    "    model.add(Conv2D(256, (5, 5), activation='relu'))\n",
    "    model.add(MaxPooling2D(pool_size=(3, 3)))\n",
    "    model.add(BatchNormalization())\n",
    "    model.add(Conv2D(384, (3, 3), activation='relu'))\n",
    "    model.add(MaxPooling2D(pool_size=(3, 3)))\n",
    "#    these two layers causes negative dimension size\n",
    "#    model.add(Conv2D(256, (3, 3), activation='relu'))\n",
    "#    model.add(MaxPooling2D(pool_size=(3, 3)))\n",
    "    model.add(Flatten())\n",
    "    model.add(Dense(3969, activation='relu'))\n",
    "    model.add(Dropout(0.75))\n",
    "    model.add(Dense(1000, activation='relu'))\n",
    "    model.add(Dropout(0.75))\n",
    "    model.add(Dense(100, activation='softmax'))\n",
    "    return model\n",
    "\n"
   ]
  },
  {
   "cell_type": "code",
   "execution_count": 2,
   "id": "unknown-roommate",
   "metadata": {},
   "outputs": [],
   "source": [
    "def oneHot(inputArray,nbins):\n",
    "    indices = np.zeros((len(inputArray),2),dtype=int)\n",
    "    indices[:, 0] = np.arange(0,len(inputArray))\n",
    "    indices[:, 1] = np.around(inputArray * nbins).astype(int)\n",
    "    oneHot = np.zeros((len(inputArray),nbins))\n",
    "    oneHot[indices[:,0],indices[:,1]] = 1.0\n",
    "    return oneHot"
   ]
  },
  {
   "cell_type": "code",
   "execution_count": 4,
   "id": "naval-capacity",
   "metadata": {
    "scrolled": false
   },
   "outputs": [
    {
     "name": "stdout",
     "output_type": "stream",
     "text": [
      "Reading Data\n",
      "1\n",
      "2\n",
      "3\n",
      "4\n",
      "5\n",
      "6\n",
      "7\n",
      "8\n",
      "9\n",
      "10\n",
      "11\n",
      "12\n",
      "13\n",
      "14\n",
      "15\n",
      "16\n",
      "17\n",
      "18\n",
      "19\n",
      "20\n",
      "21\n",
      "22\n",
      "23\n",
      "24\n",
      "25\n",
      "26\n",
      "27\n",
      "28\n",
      "29\n",
      "30\n",
      "31\n",
      "32\n",
      "33\n",
      "34\n",
      "35\n",
      "36\n",
      "37\n",
      "38\n",
      "39\n",
      "40\n",
      "41\n",
      "42\n",
      "43\n",
      "44\n",
      "45\n",
      "46\n",
      "47\n",
      "48\n",
      "49\n",
      "50\n",
      "51\n",
      "52\n",
      "53\n",
      "54\n",
      "55\n",
      "56\n",
      "57\n",
      "58\n",
      "59\n",
      "60\n",
      "61\n",
      "62\n",
      "63\n",
      "64\n",
      "65\n",
      "66\n",
      "67\n",
      "68\n",
      "69\n",
      "70\n",
      "71\n",
      "72\n",
      "73\n",
      "74\n",
      "75\n",
      "76\n",
      "77\n",
      "78\n",
      "79\n",
      "80\n",
      "81\n",
      "82\n",
      "83\n",
      "84\n",
      "85\n",
      "86\n",
      "87\n",
      "88\n",
      "89\n",
      "90\n",
      "91\n",
      "92\n",
      "93\n",
      "94\n",
      "95\n",
      "96\n",
      "97\n",
      "98\n",
      "99\n",
      "Rescaling\n",
      "Cropping images\n",
      "Spliting Data\n",
      "(11999, 10800) (4001, 10800) (4000, 10800) (11999,) (4001,) (4000,)\n"
     ]
    }
   ],
   "source": [
    "def get_redshifts(filelist, number_of_images = 57720, rot = False, flip = False):\n",
    "    num_string = nums_from_string.get_nums(filelist[0])\n",
    "    if len(num_string) == 2:\n",
    "        z = np.array(num_string[1])\n",
    "    if len(num_string) == 3:\n",
    "        z = np.array(num_string[1]*10**(num_string[2]))\n",
    "    if rot:\n",
    "        for j in [1,2,3]:\n",
    "            if len(num_string) == 2:\n",
    "                z = np.append(z, num_string[1])\n",
    "            if len(num_string) == 3:\n",
    "                z = np.append(z, num_string[1]*10**(num_string[2]))\n",
    "    if flip:\n",
    "        if len(num_string) == 2:\n",
    "            z = np.append(z, num_string[1])\n",
    "        if len(num_string) == 3:\n",
    "            z = np.append(z, num_string[1]*10**(num_string[2]))\n",
    "        if rot:\n",
    "            for j in [1,2,3]:\n",
    "                if len(num_string) == 2:\n",
    "                    z = np.append(z, num_string[1])\n",
    "                if len(num_string) == 3:\n",
    "                    z = np.append(z, num_string[1]*10**(num_string[2]))\n",
    "    for i in np.arange(1,number_of_images):\n",
    "        num_string = nums_from_string.get_nums(filelist[i])\n",
    "        if len(num_string) == 2:\n",
    "            z = np.append(z, num_string[1])\n",
    "        if len(num_string) == 3:\n",
    "            z = np.append(z, num_string[1]*10**(num_string[2]))\n",
    "        if rot:\n",
    "            for j in [1,2,3]:\n",
    "                if len(num_string) == 2:\n",
    "                    z = np.append(z, num_string[1])\n",
    "                if len(num_string) == 3:\n",
    "                    z = np.append(z, num_string[1]*10**(num_string[2]))\n",
    "        if flip:\n",
    "            if len(num_string) == 2:\n",
    "                z = np.append(z, num_string[1])\n",
    "            if len(num_string) == 3:\n",
    "                z = np.append(z, num_string[1]*10**(num_string[2]))\n",
    "            if rot:\n",
    "                for j in [1,2,3]:\n",
    "                    if len(num_string) == 2:\n",
    "                        z = np.append(z, num_string[1])\n",
    "                    if len(num_string) == 3:\n",
    "                        z = np.append(z, num_string[1]*10**(num_string[2]))              \n",
    "    return z\n",
    "\n",
    "def get_images(filelist, number_of_images = 57720, rot = False, flip = False):\n",
    "    _ = np.expand_dims(mpimg.imread(filelist[0]).astype(float), axis = 0)\n",
    "    jpgs = []\n",
    "    jpgs.append(_)\n",
    "    \n",
    "    if rot:\n",
    "        for j in [1,2,3]:\n",
    "            _ = np.rot90(_, j, axes = (1,2))\n",
    "            jpgs = np.concatenate((jpgs, _))\n",
    "                \n",
    "    if flip:\n",
    "        _ = np.flip(_, 1)\n",
    "        jpgs = np.concatenate((jpgs, _))\n",
    "        if rot:\n",
    "            for j in [1,2,3]:\n",
    "                _ = np.rot90(_, j, axes = (1,2))\n",
    "                jpgs = np.concatenate((jpgs, _))\n",
    "                \n",
    "    x=1\n",
    "    y=1\n",
    "    w = number_of_images\n",
    "    mod = w/100\n",
    "    \n",
    "    for i in filelist[1:number_of_images]:\n",
    "        \n",
    "        if int(x % mod) == 0:\n",
    "            print(y)\n",
    "            y = y+1\n",
    "        \n",
    "        _ = np.expand_dims(mpimg.imread(i), axis = 0)\n",
    "        jpgs.append(_)\n",
    "        \n",
    "        if rot:\n",
    "            for j in [1,2,3]:\n",
    "                _ = np.rot90(_, j, axes = (1,2))\n",
    "                jpgs = np.concatenate((jpgs, _))\n",
    "                \n",
    "        if flip:\n",
    "            _ = np.flip(_, 1)\n",
    "            jpgs = np.concatenate((jpgs, _))\n",
    "            if rot:\n",
    "                for j in [1,2,3]:\n",
    "                    _ = np.rot90(_, j, axes = (1,2))\n",
    "                    jpgs = np.concatenate((jpgs, _))\n",
    "        x = x+1\n",
    "                    \n",
    "    z = get_redshifts(filelist, number_of_images, rot, flip)\n",
    "    jpgs = np.stack(jpgs)\n",
    "    return jpgs.reshape(number_of_images,72,72,3), z\n",
    "    \n",
    "def center_crop(a, width = 60):\n",
    "    x = int(36-width/2)\n",
    "    y = int(36+width/2)\n",
    "    a = a[:,x:y,x:y,:]\n",
    "    return a\n",
    "\n",
    "def random_crop(a, width = 60):\n",
    "    m = width/2\n",
    "    n = 72 - width/2\n",
    "    b = np.zeros((len(a), width, width, 3))\n",
    "    for i in np.arange(len(b)):\n",
    "        z = np.random.randint(m,n)\n",
    "        x = int(z-width/2)\n",
    "        y = int(z+width/2)\n",
    "        b[i] = a[i,x:y,x:y,:]\n",
    "    return b\n",
    "\n",
    "def crop(a, width = 60):\n",
    "    m = width//2\n",
    "    n = 72 - width//2\n",
    "    b = np.zeros((len(a), width, width, 3))\n",
    "    c = np.zeros((width, width))\n",
    "    for i in np.arange(len(a)):\n",
    "        c = np.sum(a[i], axis = 2)\n",
    "        ind = list(np.unravel_index(np.argmax(c, axis=None), c.shape))\n",
    "       \tfor j in [0,1]:\n",
    "            if ind[j] < m:\n",
    "                ind[j] = m\n",
    "            elif ind[j] > n:\n",
    "                ind[j] = n\n",
    "        x0 = ind[0]-m\n",
    "        x1 = x0+width\n",
    "        y0 = ind[1]-m\n",
    "        y1 = y0+width\n",
    "        b[i] = a[i,x0:x1,y0:y1,:]\n",
    "    return b\n",
    "    \n",
    "def unison_shuffle(a, b):\n",
    "    assert len(a) == len(b)\n",
    "    p = np.random.permutation(len(a))\n",
    "    return a[p], b[p]\n",
    "\n",
    "def rescaling(data):\n",
    "    data = data\n",
    "    for i in np.arange(len(data)):\n",
    "        data[i] = np.amax(data[i]) - data[i]\n",
    "        data[i] = data[i] / np.amax(data[i])\n",
    "    return data\n",
    "\n",
    "def reshape(a, width):\n",
    "    length = len(a)\n",
    "    return np.reshape(a, (length,(width**2)*3))\n",
    "\n",
    "def split(data, targets, trainsplit = 0.6, valsplit = 0.2, shuffle=True):\n",
    "    train, test, traintar, testtar = train_test_split(data, targets, train_size=trainsplit+valsplit, shuffle=shuffle)\n",
    "    train, val, traintar, valtar = train_test_split(train, traintar, train_size=trainsplit/(trainsplit+valsplit), shuffle=shuffle) \n",
    "    return train, val, test, traintar, valtar, testtar\n",
    "\n",
    "def data_prep(num = 57720, width = 60, train_split= 0.6, val_split = 0.2, rot = False, flip = False, shuf = False, ran_crop = False, cen_crop = False):\n",
    "    # np.random.seed(1684)\n",
    "    filelist = glob.glob(\"sdss_images/*.jpg\")\n",
    "    print('Reading Data')\n",
    "    dat, tar = get_images(filelist, num, rot, flip)\n",
    "    print('Rescaling')\n",
    "    dat = rescaling(dat)\n",
    "    print('Cropping images')\n",
    "    if ran_crop:\n",
    "        dat = random_crop(dat, width)\n",
    "    elif cen_crop:\n",
    "        dat = center_crop(dat, width)   \n",
    "    else:\n",
    "        dat = crop(dat, width)\n",
    "    if shuf:\n",
    "        dat, tar = unison_shuffle(dat, tar)\n",
    "    dat = reshape(dat,width)\n",
    "    print('Spliting Data')\n",
    "    if shuf:\n",
    "        train, val, testtest, train_tar, val_tar, test_tar = split(dat, tar, train_split, val_split, shuffle = False)\n",
    "    else:\n",
    "        train, val, testtest, train_tar, val_tar, test_tar = split(dat, tar, train_split, val_split)\n",
    "    return train, val, testtest, train_tar, val_tar, test_tar\n",
    "\n",
    "\n",
    "\n",
    "\n",
    "\n",
    "train, val, test, train_tar, val_tar, test_tar = data_prep(num = 20000, width = 60)\n",
    "print(np.shape(train), np.shape(val), np.shape(test), np.shape(train_tar), np.shape(val_tar), np.shape(test_tar))\n",
    "\n"
   ]
  },
  {
   "cell_type": "code",
   "execution_count": 5,
   "id": "basic-nature",
   "metadata": {
    "scrolled": true
   },
   "outputs": [
    {
     "name": "stdout",
     "output_type": "stream",
     "text": [
      "[[0. 0. 0. ... 0. 0. 0.]\n",
      " [0. 0. 1. ... 0. 0. 0.]\n",
      " [0. 0. 0. ... 0. 0. 0.]\n",
      " ...\n",
      " [0. 0. 0. ... 0. 0. 0.]\n",
      " [0. 0. 0. ... 0. 0. 0.]\n",
      " [0. 0. 0. ... 0. 0. 0.]]\n"
     ]
    }
   ],
   "source": [
    "redshift_classes = list(np.linspace(0., 3.0, 100))\n",
    "train_tarOneHot = oneHot(train_tar/3.0,len(redshift_classes))\n",
    "print(train_tarOneHot)"
   ]
  },
  {
   "cell_type": "code",
   "execution_count": 3,
   "id": "simplified-canadian",
   "metadata": {},
   "outputs": [
    {
     "data": {
      "text/plain": [
       "100"
      ]
     },
     "execution_count": 3,
     "metadata": {},
     "output_type": "execute_result"
    }
   ],
   "source": [
    "import numpy as np\n",
    "len(np.linspace(0., 3.0, 100))"
   ]
  },
  {
   "cell_type": "code",
   "execution_count": 14,
   "id": "united-stamp",
   "metadata": {},
   "outputs": [],
   "source": [
    "# Instantiate the model\n",
    "hoyle_model = createHoyleModel()\n",
    "# Keep these defaults\n",
    "hoyle_model.compile(optimizer='adam',\n",
    "                    loss='mse',\n",
    "             #loss=tf.keras.losses.SparseCategoricalCrossentropy(from_logits=True),\n",
    "\n",
    "                    metrics=['accuracy'])"
   ]
  },
  {
   "cell_type": "code",
   "execution_count": 7,
   "id": "introductory-boards",
   "metadata": {},
   "outputs": [],
   "source": [
    "trainre = train.reshape((train.shape[0],60,60,3))\n",
    "testre = test.reshape((test.shape[0],60,60,3))\n",
    "valre = val.reshape((val.shape[0],60,60,3))\n",
    "\n",
    "train_tarO = oneHot(train_tar/3.0,100)\n",
    "test_tarO = oneHot(test_tar/3.0,100)\n",
    "val_tarO = oneHot(val_tar/3.0,100)\n"
   ]
  },
  {
   "cell_type": "code",
   "execution_count": 15,
   "id": "under-grass",
   "metadata": {},
   "outputs": [
    {
     "name": "stdout",
     "output_type": "stream",
     "text": [
      "Epoch 1/5\n",
      "375/375 [==============================] - 42s 111ms/step - loss: 0.0099 - accuracy: 0.1503 - val_loss: 0.0095 - val_accuracy: 0.1850\n",
      "Epoch 2/5\n",
      "375/375 [==============================] - 41s 110ms/step - loss: 0.0085 - accuracy: 0.2472 - val_loss: 0.0079 - val_accuracy: 0.3287\n",
      "Epoch 3/5\n",
      "375/375 [==============================] - 41s 110ms/step - loss: 0.0081 - accuracy: 0.2863 - val_loss: 0.0083 - val_accuracy: 0.2302\n",
      "Epoch 4/5\n",
      "375/375 [==============================] - 41s 110ms/step - loss: 0.0080 - accuracy: 0.3010 - val_loss: 0.0087 - val_accuracy: 0.1972\n",
      "Epoch 5/5\n",
      " 90/375 [======>.......................] - ETA: 30s - loss: 0.0080 - accuracy: 0.3083"
     ]
    },
    {
     "ename": "KeyboardInterrupt",
     "evalue": "",
     "output_type": "error",
     "traceback": [
      "\u001b[1;31m---------------------------------------------------------------------------\u001b[0m",
      "\u001b[1;31mKeyboardInterrupt\u001b[0m                         Traceback (most recent call last)",
      "\u001b[1;32m<ipython-input-15-745d3f96b0f0>\u001b[0m in \u001b[0;36m<module>\u001b[1;34m\u001b[0m\n\u001b[0;32m      3\u001b[0m \u001b[1;31m# epochs = 100 # also a hyperparameter, but Hoyle says he ran it 100 times.\u001b[0m\u001b[1;33m\u001b[0m\u001b[1;33m\u001b[0m\u001b[1;33m\u001b[0m\u001b[0m\n\u001b[0;32m      4\u001b[0m \u001b[0mnum_epochs\u001b[0m \u001b[1;33m=\u001b[0m \u001b[1;36m5\u001b[0m\u001b[1;33m\u001b[0m\u001b[1;33m\u001b[0m\u001b[0m\n\u001b[1;32m----> 5\u001b[1;33m hoyle_model.fit(trainre, train_tarO, epochs=num_epochs, batch_size= batch_size,\n\u001b[0m\u001b[0;32m      6\u001b[0m               validation_data=(valre, val_tarO))\n",
      "\u001b[1;32m~\\.conda\\envs\\tf_gpu\\lib\\site-packages\\tensorflow\\python\\keras\\engine\\training.py\u001b[0m in \u001b[0;36m_method_wrapper\u001b[1;34m(self, *args, **kwargs)\u001b[0m\n\u001b[0;32m    106\u001b[0m   \u001b[1;32mdef\u001b[0m \u001b[0m_method_wrapper\u001b[0m\u001b[1;33m(\u001b[0m\u001b[0mself\u001b[0m\u001b[1;33m,\u001b[0m \u001b[1;33m*\u001b[0m\u001b[0margs\u001b[0m\u001b[1;33m,\u001b[0m \u001b[1;33m**\u001b[0m\u001b[0mkwargs\u001b[0m\u001b[1;33m)\u001b[0m\u001b[1;33m:\u001b[0m\u001b[1;33m\u001b[0m\u001b[1;33m\u001b[0m\u001b[0m\n\u001b[0;32m    107\u001b[0m     \u001b[1;32mif\u001b[0m \u001b[1;32mnot\u001b[0m \u001b[0mself\u001b[0m\u001b[1;33m.\u001b[0m\u001b[0m_in_multi_worker_mode\u001b[0m\u001b[1;33m(\u001b[0m\u001b[1;33m)\u001b[0m\u001b[1;33m:\u001b[0m  \u001b[1;31m# pylint: disable=protected-access\u001b[0m\u001b[1;33m\u001b[0m\u001b[1;33m\u001b[0m\u001b[0m\n\u001b[1;32m--> 108\u001b[1;33m       \u001b[1;32mreturn\u001b[0m \u001b[0mmethod\u001b[0m\u001b[1;33m(\u001b[0m\u001b[0mself\u001b[0m\u001b[1;33m,\u001b[0m \u001b[1;33m*\u001b[0m\u001b[0margs\u001b[0m\u001b[1;33m,\u001b[0m \u001b[1;33m**\u001b[0m\u001b[0mkwargs\u001b[0m\u001b[1;33m)\u001b[0m\u001b[1;33m\u001b[0m\u001b[1;33m\u001b[0m\u001b[0m\n\u001b[0m\u001b[0;32m    109\u001b[0m \u001b[1;33m\u001b[0m\u001b[0m\n\u001b[0;32m    110\u001b[0m     \u001b[1;31m# Running inside `run_distribute_coordinator` already.\u001b[0m\u001b[1;33m\u001b[0m\u001b[1;33m\u001b[0m\u001b[1;33m\u001b[0m\u001b[0m\n",
      "\u001b[1;32m~\\.conda\\envs\\tf_gpu\\lib\\site-packages\\tensorflow\\python\\keras\\engine\\training.py\u001b[0m in \u001b[0;36mfit\u001b[1;34m(self, x, y, batch_size, epochs, verbose, callbacks, validation_split, validation_data, shuffle, class_weight, sample_weight, initial_epoch, steps_per_epoch, validation_steps, validation_batch_size, validation_freq, max_queue_size, workers, use_multiprocessing)\u001b[0m\n\u001b[0;32m   1096\u001b[0m                 batch_size=batch_size):\n\u001b[0;32m   1097\u001b[0m               \u001b[0mcallbacks\u001b[0m\u001b[1;33m.\u001b[0m\u001b[0mon_train_batch_begin\u001b[0m\u001b[1;33m(\u001b[0m\u001b[0mstep\u001b[0m\u001b[1;33m)\u001b[0m\u001b[1;33m\u001b[0m\u001b[1;33m\u001b[0m\u001b[0m\n\u001b[1;32m-> 1098\u001b[1;33m               \u001b[0mtmp_logs\u001b[0m \u001b[1;33m=\u001b[0m \u001b[0mtrain_function\u001b[0m\u001b[1;33m(\u001b[0m\u001b[0miterator\u001b[0m\u001b[1;33m)\u001b[0m\u001b[1;33m\u001b[0m\u001b[1;33m\u001b[0m\u001b[0m\n\u001b[0m\u001b[0;32m   1099\u001b[0m               \u001b[1;32mif\u001b[0m \u001b[0mdata_handler\u001b[0m\u001b[1;33m.\u001b[0m\u001b[0mshould_sync\u001b[0m\u001b[1;33m:\u001b[0m\u001b[1;33m\u001b[0m\u001b[1;33m\u001b[0m\u001b[0m\n\u001b[0;32m   1100\u001b[0m                 \u001b[0mcontext\u001b[0m\u001b[1;33m.\u001b[0m\u001b[0masync_wait\u001b[0m\u001b[1;33m(\u001b[0m\u001b[1;33m)\u001b[0m\u001b[1;33m\u001b[0m\u001b[1;33m\u001b[0m\u001b[0m\n",
      "\u001b[1;32m~\\.conda\\envs\\tf_gpu\\lib\\site-packages\\tensorflow\\python\\eager\\def_function.py\u001b[0m in \u001b[0;36m__call__\u001b[1;34m(self, *args, **kwds)\u001b[0m\n\u001b[0;32m    778\u001b[0m       \u001b[1;32melse\u001b[0m\u001b[1;33m:\u001b[0m\u001b[1;33m\u001b[0m\u001b[1;33m\u001b[0m\u001b[0m\n\u001b[0;32m    779\u001b[0m         \u001b[0mcompiler\u001b[0m \u001b[1;33m=\u001b[0m \u001b[1;34m\"nonXla\"\u001b[0m\u001b[1;33m\u001b[0m\u001b[1;33m\u001b[0m\u001b[0m\n\u001b[1;32m--> 780\u001b[1;33m         \u001b[0mresult\u001b[0m \u001b[1;33m=\u001b[0m \u001b[0mself\u001b[0m\u001b[1;33m.\u001b[0m\u001b[0m_call\u001b[0m\u001b[1;33m(\u001b[0m\u001b[1;33m*\u001b[0m\u001b[0margs\u001b[0m\u001b[1;33m,\u001b[0m \u001b[1;33m**\u001b[0m\u001b[0mkwds\u001b[0m\u001b[1;33m)\u001b[0m\u001b[1;33m\u001b[0m\u001b[1;33m\u001b[0m\u001b[0m\n\u001b[0m\u001b[0;32m    781\u001b[0m \u001b[1;33m\u001b[0m\u001b[0m\n\u001b[0;32m    782\u001b[0m       \u001b[0mnew_tracing_count\u001b[0m \u001b[1;33m=\u001b[0m \u001b[0mself\u001b[0m\u001b[1;33m.\u001b[0m\u001b[0m_get_tracing_count\u001b[0m\u001b[1;33m(\u001b[0m\u001b[1;33m)\u001b[0m\u001b[1;33m\u001b[0m\u001b[1;33m\u001b[0m\u001b[0m\n",
      "\u001b[1;32m~\\.conda\\envs\\tf_gpu\\lib\\site-packages\\tensorflow\\python\\eager\\def_function.py\u001b[0m in \u001b[0;36m_call\u001b[1;34m(self, *args, **kwds)\u001b[0m\n\u001b[0;32m    805\u001b[0m       \u001b[1;31m# In this case we have created variables on the first call, so we run the\u001b[0m\u001b[1;33m\u001b[0m\u001b[1;33m\u001b[0m\u001b[1;33m\u001b[0m\u001b[0m\n\u001b[0;32m    806\u001b[0m       \u001b[1;31m# defunned version which is guaranteed to never create variables.\u001b[0m\u001b[1;33m\u001b[0m\u001b[1;33m\u001b[0m\u001b[1;33m\u001b[0m\u001b[0m\n\u001b[1;32m--> 807\u001b[1;33m       \u001b[1;32mreturn\u001b[0m \u001b[0mself\u001b[0m\u001b[1;33m.\u001b[0m\u001b[0m_stateless_fn\u001b[0m\u001b[1;33m(\u001b[0m\u001b[1;33m*\u001b[0m\u001b[0margs\u001b[0m\u001b[1;33m,\u001b[0m \u001b[1;33m**\u001b[0m\u001b[0mkwds\u001b[0m\u001b[1;33m)\u001b[0m  \u001b[1;31m# pylint: disable=not-callable\u001b[0m\u001b[1;33m\u001b[0m\u001b[1;33m\u001b[0m\u001b[0m\n\u001b[0m\u001b[0;32m    808\u001b[0m     \u001b[1;32melif\u001b[0m \u001b[0mself\u001b[0m\u001b[1;33m.\u001b[0m\u001b[0m_stateful_fn\u001b[0m \u001b[1;32mis\u001b[0m \u001b[1;32mnot\u001b[0m \u001b[1;32mNone\u001b[0m\u001b[1;33m:\u001b[0m\u001b[1;33m\u001b[0m\u001b[1;33m\u001b[0m\u001b[0m\n\u001b[0;32m    809\u001b[0m       \u001b[1;31m# Release the lock early so that multiple threads can perform the call\u001b[0m\u001b[1;33m\u001b[0m\u001b[1;33m\u001b[0m\u001b[1;33m\u001b[0m\u001b[0m\n",
      "\u001b[1;32m~\\.conda\\envs\\tf_gpu\\lib\\site-packages\\tensorflow\\python\\eager\\function.py\u001b[0m in \u001b[0;36m__call__\u001b[1;34m(self, *args, **kwargs)\u001b[0m\n\u001b[0;32m   2827\u001b[0m     \u001b[1;32mwith\u001b[0m \u001b[0mself\u001b[0m\u001b[1;33m.\u001b[0m\u001b[0m_lock\u001b[0m\u001b[1;33m:\u001b[0m\u001b[1;33m\u001b[0m\u001b[1;33m\u001b[0m\u001b[0m\n\u001b[0;32m   2828\u001b[0m       \u001b[0mgraph_function\u001b[0m\u001b[1;33m,\u001b[0m \u001b[0margs\u001b[0m\u001b[1;33m,\u001b[0m \u001b[0mkwargs\u001b[0m \u001b[1;33m=\u001b[0m \u001b[0mself\u001b[0m\u001b[1;33m.\u001b[0m\u001b[0m_maybe_define_function\u001b[0m\u001b[1;33m(\u001b[0m\u001b[0margs\u001b[0m\u001b[1;33m,\u001b[0m \u001b[0mkwargs\u001b[0m\u001b[1;33m)\u001b[0m\u001b[1;33m\u001b[0m\u001b[1;33m\u001b[0m\u001b[0m\n\u001b[1;32m-> 2829\u001b[1;33m     \u001b[1;32mreturn\u001b[0m \u001b[0mgraph_function\u001b[0m\u001b[1;33m.\u001b[0m\u001b[0m_filtered_call\u001b[0m\u001b[1;33m(\u001b[0m\u001b[0margs\u001b[0m\u001b[1;33m,\u001b[0m \u001b[0mkwargs\u001b[0m\u001b[1;33m)\u001b[0m  \u001b[1;31m# pylint: disable=protected-access\u001b[0m\u001b[1;33m\u001b[0m\u001b[1;33m\u001b[0m\u001b[0m\n\u001b[0m\u001b[0;32m   2830\u001b[0m \u001b[1;33m\u001b[0m\u001b[0m\n\u001b[0;32m   2831\u001b[0m   \u001b[1;33m@\u001b[0m\u001b[0mproperty\u001b[0m\u001b[1;33m\u001b[0m\u001b[1;33m\u001b[0m\u001b[0m\n",
      "\u001b[1;32m~\\.conda\\envs\\tf_gpu\\lib\\site-packages\\tensorflow\\python\\eager\\function.py\u001b[0m in \u001b[0;36m_filtered_call\u001b[1;34m(self, args, kwargs, cancellation_manager)\u001b[0m\n\u001b[0;32m   1841\u001b[0m       \u001b[0;31m`\u001b[0m\u001b[0margs\u001b[0m\u001b[0;31m`\u001b[0m \u001b[1;32mand\u001b[0m\u001b[0;31m \u001b[0m\u001b[0;31m`\u001b[0m\u001b[0mkwargs\u001b[0m\u001b[0;31m`\u001b[0m\u001b[1;33m.\u001b[0m\u001b[1;33m\u001b[0m\u001b[1;33m\u001b[0m\u001b[0m\n\u001b[0;32m   1842\u001b[0m     \"\"\"\n\u001b[1;32m-> 1843\u001b[1;33m     return self._call_flat(\n\u001b[0m\u001b[0;32m   1844\u001b[0m         [t for t in nest.flatten((args, kwargs), expand_composites=True)\n\u001b[0;32m   1845\u001b[0m          if isinstance(t, (ops.Tensor,\n",
      "\u001b[1;32m~\\.conda\\envs\\tf_gpu\\lib\\site-packages\\tensorflow\\python\\eager\\function.py\u001b[0m in \u001b[0;36m_call_flat\u001b[1;34m(self, args, captured_inputs, cancellation_manager)\u001b[0m\n\u001b[0;32m   1921\u001b[0m         and executing_eagerly):\n\u001b[0;32m   1922\u001b[0m       \u001b[1;31m# No tape is watching; skip to running the function.\u001b[0m\u001b[1;33m\u001b[0m\u001b[1;33m\u001b[0m\u001b[1;33m\u001b[0m\u001b[0m\n\u001b[1;32m-> 1923\u001b[1;33m       return self._build_call_outputs(self._inference_function.call(\n\u001b[0m\u001b[0;32m   1924\u001b[0m           ctx, args, cancellation_manager=cancellation_manager))\n\u001b[0;32m   1925\u001b[0m     forward_backward = self._select_forward_and_backward_functions(\n",
      "\u001b[1;32m~\\.conda\\envs\\tf_gpu\\lib\\site-packages\\tensorflow\\python\\eager\\function.py\u001b[0m in \u001b[0;36mcall\u001b[1;34m(self, ctx, args, cancellation_manager)\u001b[0m\n\u001b[0;32m    543\u001b[0m       \u001b[1;32mwith\u001b[0m \u001b[0m_InterpolateFunctionError\u001b[0m\u001b[1;33m(\u001b[0m\u001b[0mself\u001b[0m\u001b[1;33m)\u001b[0m\u001b[1;33m:\u001b[0m\u001b[1;33m\u001b[0m\u001b[1;33m\u001b[0m\u001b[0m\n\u001b[0;32m    544\u001b[0m         \u001b[1;32mif\u001b[0m \u001b[0mcancellation_manager\u001b[0m \u001b[1;32mis\u001b[0m \u001b[1;32mNone\u001b[0m\u001b[1;33m:\u001b[0m\u001b[1;33m\u001b[0m\u001b[1;33m\u001b[0m\u001b[0m\n\u001b[1;32m--> 545\u001b[1;33m           outputs = execute.execute(\n\u001b[0m\u001b[0;32m    546\u001b[0m               \u001b[0mstr\u001b[0m\u001b[1;33m(\u001b[0m\u001b[0mself\u001b[0m\u001b[1;33m.\u001b[0m\u001b[0msignature\u001b[0m\u001b[1;33m.\u001b[0m\u001b[0mname\u001b[0m\u001b[1;33m)\u001b[0m\u001b[1;33m,\u001b[0m\u001b[1;33m\u001b[0m\u001b[1;33m\u001b[0m\u001b[0m\n\u001b[0;32m    547\u001b[0m               \u001b[0mnum_outputs\u001b[0m\u001b[1;33m=\u001b[0m\u001b[0mself\u001b[0m\u001b[1;33m.\u001b[0m\u001b[0m_num_outputs\u001b[0m\u001b[1;33m,\u001b[0m\u001b[1;33m\u001b[0m\u001b[1;33m\u001b[0m\u001b[0m\n",
      "\u001b[1;32m~\\.conda\\envs\\tf_gpu\\lib\\site-packages\\tensorflow\\python\\eager\\execute.py\u001b[0m in \u001b[0;36mquick_execute\u001b[1;34m(op_name, num_outputs, inputs, attrs, ctx, name)\u001b[0m\n\u001b[0;32m     57\u001b[0m   \u001b[1;32mtry\u001b[0m\u001b[1;33m:\u001b[0m\u001b[1;33m\u001b[0m\u001b[1;33m\u001b[0m\u001b[0m\n\u001b[0;32m     58\u001b[0m     \u001b[0mctx\u001b[0m\u001b[1;33m.\u001b[0m\u001b[0mensure_initialized\u001b[0m\u001b[1;33m(\u001b[0m\u001b[1;33m)\u001b[0m\u001b[1;33m\u001b[0m\u001b[1;33m\u001b[0m\u001b[0m\n\u001b[1;32m---> 59\u001b[1;33m     tensors = pywrap_tfe.TFE_Py_Execute(ctx._handle, device_name, op_name,\n\u001b[0m\u001b[0;32m     60\u001b[0m                                         inputs, attrs, num_outputs)\n\u001b[0;32m     61\u001b[0m   \u001b[1;32mexcept\u001b[0m \u001b[0mcore\u001b[0m\u001b[1;33m.\u001b[0m\u001b[0m_NotOkStatusException\u001b[0m \u001b[1;32mas\u001b[0m \u001b[0me\u001b[0m\u001b[1;33m:\u001b[0m\u001b[1;33m\u001b[0m\u001b[1;33m\u001b[0m\u001b[0m\n",
      "\u001b[1;31mKeyboardInterrupt\u001b[0m: "
     ]
    }
   ],
   "source": [
    "# Train the model\n",
    "batch_size = 32 # for lack of a better choice\n",
    "# epochs = 100 # also a hyperparameter, but Hoyle says he ran it 100 times.\n",
    "num_epochs = 5\n",
    "hoyle_model.fit(trainre, train_tarO, epochs=num_epochs, batch_size= batch_size,\n",
    "              validation_data=(valre, val_tarO))"
   ]
  },
  {
   "cell_type": "code",
   "execution_count": 12,
   "id": "committed-checklist",
   "metadata": {},
   "outputs": [
    {
     "data": {
      "text/plain": [
       "[<matplotlib.lines.Line2D at 0x293d4665250>]"
      ]
     },
     "execution_count": 12,
     "metadata": {},
     "output_type": "execute_result"
    },
    {
     "data": {
      "image/png": "[encoded data removed]",
      "text/plain": [
       "<Figure size 432x288 with 1 Axes>"
      ]
     },
     "metadata": {
      "needs_background": "light"
     },
     "output_type": "display_data"
    }
   ],
   "source": [
    "a = np.argmax(hoyle_model.predict(testre),axis=1)* 3/100\n",
    "b = np.argmax(test_tarO,axis=1) * 3/100\n",
    "plt.plot(np.abs(a-b))"
   ]
  },
  {
   "cell_type": "code",
   "execution_count": null,
   "id": "hungarian-response",
   "metadata": {},
   "outputs": [],
   "source": []
  }
 ],
 "metadata": {
  "kernelspec": {
   "display_name": "Python 3",
   "language": "python",
   "name": "python3"
  },
  "language_info": {
   "codemirror_mode": {
    "name": "ipython",
    "version": 3
   },
   "file_extension": ".py",
   "mimetype": "text/x-python",
   "name": "python",
   "nbconvert_exporter": "python",
   "pygments_lexer": "ipython3",
   "version": "3.8.8"
  }
 },
 "nbformat": 4,
 "nbformat_minor": 5
}
