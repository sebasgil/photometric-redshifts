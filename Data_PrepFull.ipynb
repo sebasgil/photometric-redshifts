{
 "cells": [
  {
   "cell_type": "code",
   "execution_count": 1,
   "id": "instructional-school",
   "metadata": {},
   "outputs": [],
   "source": [
    "# import tensorflow as tf\n",
    "import numpy as np\n",
    "import matplotlib.pyplot as plt\n",
    "import matplotlib.image as mpimg\n",
    "%matplotlib inline\n",
    "import glob\n",
    "import nums_from_string\n",
    "from sklearn.model_selection import train_test_split"
   ]
  },
  {
   "cell_type": "code",
   "execution_count": 2,
   "id": "duplicate-canadian",
   "metadata": {},
   "outputs": [],
   "source": [
    "def get_redshifts(filelist, number_of_images = 57720, rot = False, flip = False):\n",
    "    num_string = nums_from_string.get_nums(filelist[0])\n",
    "    if len(num_string) == 2:\n",
    "        z = np.array(num_string[1])\n",
    "    if len(num_string) == 3:\n",
    "        z = np.array(num_string[1]*10**(num_string[2]))\n",
    "    if rot:\n",
    "        for j in [1,2,3]:\n",
    "            if len(num_string) == 2:\n",
    "                z = np.append(z, num_string[1])\n",
    "            if len(num_string) == 3:\n",
    "                z = np.append(z, num_string[1]*10**(num_string[2]))\n",
    "    if flip:\n",
    "        if len(num_string) == 2:\n",
    "            z = np.append(z, num_string[1])\n",
    "        if len(num_string) == 3:\n",
    "            z = np.append(z, num_string[1]*10**(num_string[2]))\n",
    "        if rot:\n",
    "            for j in [1,2,3]:\n",
    "                if len(num_string) == 2:\n",
    "                    z = np.append(z, num_string[1])\n",
    "                if len(num_string) == 3:\n",
    "                    z = np.append(z, num_string[1]*10**(num_string[2]))\n",
    "    for i in np.arange(1,number_of_images):\n",
    "        num_string = nums_from_string.get_nums(filelist[i])\n",
    "        if len(num_string) == 2:\n",
    "            z = np.append(z, num_string[1])\n",
    "        if len(num_string) == 3:\n",
    "            z = np.append(z, num_string[1]*10**(num_string[2]))\n",
    "        if rot:\n",
    "            for j in [1,2,3]:\n",
    "                if len(num_string) == 2:\n",
    "                    z = np.append(z, num_string[1])\n",
    "                if len(num_string) == 3:\n",
    "                    z = np.append(z, num_string[1]*10**(num_string[2]))\n",
    "        if flip:\n",
    "            if len(num_string) == 2:\n",
    "                z = np.append(z, num_string[1])\n",
    "            if len(num_string) == 3:\n",
    "                z = np.append(z, num_string[1]*10**(num_string[2]))\n",
    "            if rot:\n",
    "                for j in [1,2,3]:\n",
    "                    if len(num_string) == 2:\n",
    "                        z = np.append(z, num_string[1])\n",
    "                    if len(num_string) == 3:\n",
    "                        z = np.append(z, num_string[1]*10**(num_string[2]))              \n",
    "    return z\n",
    "\n",
    "def get_images(filelist, number_of_images = 57720, rot = False, flip = False):\n",
    "    _ = np.expand_dims(mpimg.imread(filelist[0]).astype(float), axis = 0)\n",
    "    jpgs = _\n",
    "    \n",
    "    if rot:\n",
    "        for j in [1,2,3]:\n",
    "            _ = np.rot90(_, j, axes = (1,2))\n",
    "            jpgs = np.concatenate((jpgs, _))\n",
    "                \n",
    "    if flip:\n",
    "        _ = np.flip(_, 1)\n",
    "        jpgs = np.concatenate((jpgs, _))\n",
    "        if rot:\n",
    "            for j in [1,2,3]:\n",
    "                _ = np.rot90(_, j, axes = (1,2))\n",
    "                jpgs = np.concatenate((jpgs, _))\n",
    "                \n",
    "    x=1\n",
    "    y=1\n",
    "    w = number_of_images\n",
    "    mod = w/100\n",
    "    \n",
    "    for i in filelist[1:number_of_images]:\n",
    "        \n",
    "        if int(x % mod) == 0:\n",
    "            print(y)\n",
    "            y = y+1\n",
    "        \n",
    "        _ = np.expand_dims(mpimg.imread(i), axis = 0)\n",
    "        jpgs = np.concatenate((jpgs, _))\n",
    "        \n",
    "        if rot:\n",
    "            for j in [1,2,3]:\n",
    "                _ = np.rot90(_, j, axes = (1,2))\n",
    "                jpgs = np.concatenate((jpgs, _))\n",
    "                \n",
    "        if flip:\n",
    "            _ = np.flip(_, 1)\n",
    "            jpgs = np.concatenate((jpgs, _))\n",
    "            if rot:\n",
    "                for j in [1,2,3]:\n",
    "                    _ = np.rot90(_, j, axes = (1,2))\n",
    "                    jpgs = np.concatenate((jpgs, _))\n",
    "        x = x+1\n",
    "                    \n",
    "    z = get_redshifts(filelist, number_of_images, rot, flip)\n",
    "    return jpgs, z\n",
    "    \n",
    "def center_crop(a, width = 60):\n",
    "    x = int(36-width/2)\n",
    "    y = int(36+width/2)\n",
    "    a = a[:,x:y,x:y,:]\n",
    "    return a\n",
    "\n",
    "def random_crop(a, width = 60):\n",
    "    m = width/2\n",
    "    n = 72 - width/2\n",
    "    b = np.zeros((len(a), width, width, 3))\n",
    "    for i in np.arange(len(b)):\n",
    "        z = np.random.randint(m,n)\n",
    "        x = int(z-width/2)\n",
    "        y = int(z+width/2)\n",
    "        b[i] = a[i,x:y,x:y,:]\n",
    "    return b\n",
    "\n",
    "def crop(a, width = 60):\n",
    "    m = width//2\n",
    "    n = 72 - width//2\n",
    "    b = np.zeros((len(a), width, width, 3))\n",
    "    c = np.zeros((width, width))\n",
    "    for i in np.arange(len(a)):\n",
    "        c = np.sum(a[i], axis = 2)\n",
    "        ind = list(np.unravel_index(np.argmax(c, axis=None), c.shape))\n",
    "       \tfor j in [0,1]:\n",
    "            if ind[j] < m:\n",
    "                ind[j] = m\n",
    "            elif ind[j] > n:\n",
    "                ind[j] = n\n",
    "        x0 = ind[0]-m\n",
    "        x1 = x0+width\n",
    "        y0 = ind[1]-m\n",
    "        y1 = y0+width\n",
    "        b[i] = a[i,x0:x1,y0:y1,:]\n",
    "    return b\n",
    "    \n",
    "def unison_shuffle(a, b):\n",
    "    assert len(a) == len(b)\n",
    "    p = np.random.permutation(len(a))\n",
    "    return a[p], b[p]\n",
    "\n",
    "def rescaling(data):\n",
    "    data = data\n",
    "    for i in np.arange(len(data)):\n",
    "        data[i] = np.amax(data[i]) - data[i]\n",
    "        data[i] = data[i] / np.amax(data[i])\n",
    "    return data\n",
    "\n",
    "def reshape(a, width):\n",
    "    length = len(a)\n",
    "    return np.reshape(a, (length,(width**2)*3))\n",
    "\n",
    "def split(data, targets, trainsplit = 0.6, valsplit = 0.2, shuffle=True):\n",
    "    train, test, traintar, testtar = train_test_split(data, targets, train_size=trainsplit+valsplit, shuffle=shuffle)\n",
    "    train, val, traintar, valtar = train_test_split(train, traintar, train_size=trainsplit/(trainsplit+valsplit), shuffle=shuffle) \n",
    "    return train, val, test, traintar, valtar, testtar\n",
    "\n",
    "def data_prep(num = 57720, width = 60, train_split= 0.6, val_split = 0.2, rot = False, flip = False, shuf = False, ran_crop = False, cen_crop = False):\n",
    "    # np.random.seed(1684)\n",
    "    filelist = glob.glob(\"sdss_images/*.jpg\")\n",
    "    print('Reading Data')\n",
    "    dat, tar = get_images(filelist, num, rot, flip)\n",
    "    print('Rescaling')\n",
    "    dat = rescaling(dat)\n",
    "    print('Cropping images')\n",
    "    if ran_crop:\n",
    "        dat = random_crop(dat, width)\n",
    "    elif cen_crop:\n",
    "        dat = center_crop(dat, width)   \n",
    "    else:\n",
    "        dat = crop(dat, width)\n",
    "    if shuf:\n",
    "        dat, tar = unison_shuffle(dat, tar)\n",
    "    dat = reshape(dat,width)\n",
    "    print('Spliting Data')\n",
    "    if shuf:\n",
    "        train, val, testtest, train_tar, val_tar, test_tar = split(dat, tar, train_split, val_split, shuffle = False)\n",
    "    else:\n",
    "        train, val, testtest, train_tar, val_tar, test_tar = split(dat, tar, train_split, val_split)\n",
    "    return train, val, testtest, train_tar, val_tar, test_tar"
   ]
  },
  {
   "cell_type": "code",
   "execution_count": 2,
   "id": "directed-lucas",
   "metadata": {},
   "outputs": [
    {
     "name": "stdout",
     "output_type": "stream",
     "text": [
      "Reading Data\n",
      "1\n",
      "2\n",
      "3\n",
      "4\n",
      "5\n",
      "6\n",
      "7\n",
      "8\n"
     ]
    },
    {
     "name": "stderr",
     "output_type": "stream",
     "text": [
      "ERROR:root:Internal Python error in the inspect module.\n",
      "Below is the traceback from this internal error.\n",
      "\n"
     ]
    },
    {
     "name": "stdout",
     "output_type": "stream",
     "text": [
      "9\n"
     ]
    },
    {
     "name": "stderr",
     "output_type": "stream",
     "text": [
      "ERROR:root:Internal Python error in the inspect module.\n",
      "Below is the traceback from this internal error.\n",
      "\n"
     ]
    },
    {
     "name": "stdout",
     "output_type": "stream",
     "text": [
      "Traceback (most recent call last):\n",
      "  File \"C:\\Users\\Blub\\.conda\\envs\\tf_gpu\\lib\\site-packages\\IPython\\core\\interactiveshell.py\", line 3437, in run_code\n",
      "    exec(code_obj, self.user_global_ns, self.user_ns)\n",
      "  File \"<ipython-input-3-6eb331382020>\", line 1, in <module>\n",
      "    train, val, test, train_tar, val_tar, test_tar = data_prep(num = 5000, width = 60)\n",
      "  File \"<ipython-input-2-4311840f88f4>\", line 159, in data_prep\n",
      "    dat, tar = get_images(filelist, num, rot, flip)\n",
      "  File \"<ipython-input-2-4311840f88f4>\", line 77, in get_images\n",
      "    _ = np.expand_dims(mpimg.imread(i), axis = 0)\n",
      "  File \"C:\\Users\\Blub\\.conda\\envs\\tf_gpu\\lib\\site-packages\\matplotlib\\image.py\", line 1496, in imread\n",
      "    with img_open(fname) as image:\n",
      "  File \"C:\\Users\\Blub\\.conda\\envs\\tf_gpu\\lib\\site-packages\\PIL\\Image.py\", line 2904, in open\n",
      "    fp = builtins.open(filename, \"rb\")\n",
      "KeyboardInterrupt\n",
      "\n",
      "During handling of the above exception, another exception occurred:\n",
      "\n",
      "Traceback (most recent call last):\n",
      "  File \"C:\\Users\\Blub\\.conda\\envs\\tf_gpu\\lib\\site-packages\\IPython\\core\\interactiveshell.py\", line 2061, in showtraceback\n",
      "    stb = value._render_traceback_()\n",
      "AttributeError: 'KeyboardInterrupt' object has no attribute '_render_traceback_'\n",
      "\n",
      "During handling of the above exception, another exception occurred:\n",
      "\n",
      "Traceback (most recent call last):\n",
      "  File \"C:\\Users\\Blub\\.conda\\envs\\tf_gpu\\lib\\site-packages\\IPython\\core\\ultratb.py\", line 1101, in get_records\n",
      "    return _fixed_getinnerframes(etb, number_of_lines_of_context, tb_offset)\n",
      "  File \"C:\\Users\\Blub\\.conda\\envs\\tf_gpu\\lib\\site-packages\\IPython\\core\\ultratb.py\", line 248, in wrapped\n",
      "    return f(*args, **kwargs)\n",
      "  File \"C:\\Users\\Blub\\.conda\\envs\\tf_gpu\\lib\\site-packages\\IPython\\core\\ultratb.py\", line 281, in _fixed_getinnerframes\n",
      "    records = fix_frame_records_filenames(inspect.getinnerframes(etb, context))\n",
      "  File \"C:\\Users\\Blub\\.conda\\envs\\tf_gpu\\lib\\inspect.py\", line 1515, in getinnerframes\n",
      "    frameinfo = (tb.tb_frame,) + getframeinfo(tb, context)\n",
      "  File \"C:\\Users\\Blub\\.conda\\envs\\tf_gpu\\lib\\inspect.py\", line 1473, in getframeinfo\n",
      "    filename = getsourcefile(frame) or getfile(frame)\n",
      "  File \"C:\\Users\\Blub\\.conda\\envs\\tf_gpu\\lib\\inspect.py\", line 708, in getsourcefile\n",
      "    if getattr(getmodule(object, filename), '__loader__', None) is not None:\n",
      "  File \"C:\\Users\\Blub\\.conda\\envs\\tf_gpu\\lib\\inspect.py\", line 754, in getmodule\n",
      "    os.path.realpath(f)] = module.__name__\n",
      "  File \"C:\\Users\\Blub\\.conda\\envs\\tf_gpu\\lib\\ntpath.py\", line 664, in realpath\n",
      "    if _getfinalpathname(spath) == path:\n",
      "KeyboardInterrupt\n",
      "Traceback (most recent call last):\n",
      "  File \"C:\\Users\\Blub\\.conda\\envs\\tf_gpu\\lib\\site-packages\\IPython\\core\\interactiveshell.py\", line 3437, in run_code\n",
      "    exec(code_obj, self.user_global_ns, self.user_ns)\n",
      "  File \"<ipython-input-3-6eb331382020>\", line 1, in <module>\n",
      "    train, val, test, train_tar, val_tar, test_tar = data_prep(num = 5000, width = 60)\n",
      "  File \"<ipython-input-2-4311840f88f4>\", line 159, in data_prep\n",
      "    dat, tar = get_images(filelist, num, rot, flip)\n",
      "  File \"<ipython-input-2-4311840f88f4>\", line 77, in get_images\n",
      "    _ = np.expand_dims(mpimg.imread(i), axis = 0)\n",
      "  File \"C:\\Users\\Blub\\.conda\\envs\\tf_gpu\\lib\\site-packages\\matplotlib\\image.py\", line 1496, in imread\n",
      "    with img_open(fname) as image:\n",
      "  File \"C:\\Users\\Blub\\.conda\\envs\\tf_gpu\\lib\\site-packages\\PIL\\Image.py\", line 2904, in open\n",
      "    fp = builtins.open(filename, \"rb\")\n",
      "KeyboardInterrupt\n",
      "\n",
      "During handling of the above exception, another exception occurred:\n",
      "\n",
      "Traceback (most recent call last):\n",
      "  File \"C:\\Users\\Blub\\.conda\\envs\\tf_gpu\\lib\\site-packages\\IPython\\core\\interactiveshell.py\", line 2061, in showtraceback\n",
      "    stb = value._render_traceback_()\n",
      "AttributeError: 'KeyboardInterrupt' object has no attribute '_render_traceback_'\n",
      "\n",
      "During handling of the above exception, another exception occurred:\n",
      "\n",
      "Traceback (most recent call last):\n",
      "  File \"C:\\Users\\Blub\\.conda\\envs\\tf_gpu\\lib\\site-packages\\IPython\\core\\interactiveshell.py\", line 3357, in run_ast_nodes\n",
      "    if (await self.run_code(code, result,  async_=asy)):\n",
      "  File \"C:\\Users\\Blub\\.conda\\envs\\tf_gpu\\lib\\site-packages\\IPython\\core\\interactiveshell.py\", line 3454, in run_code\n",
      "    self.showtraceback(running_compiled_code=True)\n",
      "  File \"C:\\Users\\Blub\\.conda\\envs\\tf_gpu\\lib\\site-packages\\IPython\\core\\interactiveshell.py\", line 2063, in showtraceback\n",
      "    stb = self.InteractiveTB.structured_traceback(etype,\n",
      "  File \"C:\\Users\\Blub\\.conda\\envs\\tf_gpu\\lib\\site-packages\\IPython\\core\\ultratb.py\", line 1367, in structured_traceback\n",
      "    return FormattedTB.structured_traceback(\n",
      "  File \"C:\\Users\\Blub\\.conda\\envs\\tf_gpu\\lib\\site-packages\\IPython\\core\\ultratb.py\", line 1267, in structured_traceback\n",
      "    return VerboseTB.structured_traceback(\n",
      "  File \"C:\\Users\\Blub\\.conda\\envs\\tf_gpu\\lib\\site-packages\\IPython\\core\\ultratb.py\", line 1124, in structured_traceback\n",
      "    formatted_exception = self.format_exception_as_a_whole(etype, evalue, etb, number_of_lines_of_context,\n",
      "  File \"C:\\Users\\Blub\\.conda\\envs\\tf_gpu\\lib\\site-packages\\IPython\\core\\ultratb.py\", line 1082, in format_exception_as_a_whole\n",
      "    last_unique, recursion_repeat = find_recursion(orig_etype, evalue, records)\n",
      "  File \"C:\\Users\\Blub\\.conda\\envs\\tf_gpu\\lib\\site-packages\\IPython\\core\\ultratb.py\", line 382, in find_recursion\n",
      "    return len(records), 0\n",
      "TypeError: object of type 'NoneType' has no len()\n",
      "\n",
      "During handling of the above exception, another exception occurred:\n",
      "\n",
      "Traceback (most recent call last):\n",
      "  File \"C:\\Users\\Blub\\.conda\\envs\\tf_gpu\\lib\\site-packages\\IPython\\core\\interactiveshell.py\", line 2061, in showtraceback\n",
      "    stb = value._render_traceback_()\n",
      "AttributeError: 'TypeError' object has no attribute '_render_traceback_'\n",
      "\n",
      "During handling of the above exception, another exception occurred:\n",
      "\n",
      "Traceback (most recent call last):\n",
      "  File \"C:\\Users\\Blub\\.conda\\envs\\tf_gpu\\lib\\site-packages\\IPython\\core\\ultratb.py\", line 1101, in get_records\n",
      "    return _fixed_getinnerframes(etb, number_of_lines_of_context, tb_offset)\n",
      "  File \"C:\\Users\\Blub\\.conda\\envs\\tf_gpu\\lib\\site-packages\\IPython\\core\\ultratb.py\", line 248, in wrapped\n",
      "    return f(*args, **kwargs)\n",
      "  File \"C:\\Users\\Blub\\.conda\\envs\\tf_gpu\\lib\\site-packages\\IPython\\core\\ultratb.py\", line 281, in _fixed_getinnerframes\n",
      "    records = fix_frame_records_filenames(inspect.getinnerframes(etb, context))\n",
      "  File \"C:\\Users\\Blub\\.conda\\envs\\tf_gpu\\lib\\inspect.py\", line 1515, in getinnerframes\n",
      "    frameinfo = (tb.tb_frame,) + getframeinfo(tb, context)\n",
      "  File \"C:\\Users\\Blub\\.conda\\envs\\tf_gpu\\lib\\inspect.py\", line 1473, in getframeinfo\n",
      "    filename = getsourcefile(frame) or getfile(frame)\n",
      "  File \"C:\\Users\\Blub\\.conda\\envs\\tf_gpu\\lib\\inspect.py\", line 708, in getsourcefile\n",
      "    if getattr(getmodule(object, filename), '__loader__', None) is not None:\n",
      "  File \"C:\\Users\\Blub\\.conda\\envs\\tf_gpu\\lib\\inspect.py\", line 754, in getmodule\n",
      "    os.path.realpath(f)] = module.__name__\n",
      "  File \"C:\\Users\\Blub\\.conda\\envs\\tf_gpu\\lib\\ntpath.py\", line 647, in realpath\n",
      "    path = _getfinalpathname(path)\n",
      "KeyboardInterrupt\n"
     ]
    },
    {
     "ename": "TypeError",
     "evalue": "object of type 'NoneType' has no len()",
     "output_type": "error",
     "traceback": [
      "\u001b[1;31m---------------------------------------------------------------------------\u001b[0m",
      "\u001b[1;31mKeyboardInterrupt\u001b[0m                         Traceback (most recent call last)",
      "    \u001b[1;31m[... skipping hidden 1 frame]\u001b[0m\n",
      "\u001b[1;32m<ipython-input-3-6eb331382020>\u001b[0m in \u001b[0;36m<module>\u001b[1;34m\u001b[0m\n\u001b[1;32m----> 1\u001b[1;33m \u001b[0mtrain\u001b[0m\u001b[1;33m,\u001b[0m \u001b[0mval\u001b[0m\u001b[1;33m,\u001b[0m \u001b[0mtest\u001b[0m\u001b[1;33m,\u001b[0m \u001b[0mtrain_tar\u001b[0m\u001b[1;33m,\u001b[0m \u001b[0mval_tar\u001b[0m\u001b[1;33m,\u001b[0m \u001b[0mtest_tar\u001b[0m \u001b[1;33m=\u001b[0m \u001b[0mdata_prep\u001b[0m\u001b[1;33m(\u001b[0m\u001b[0mnum\u001b[0m \u001b[1;33m=\u001b[0m \u001b[1;36m5000\u001b[0m\u001b[1;33m,\u001b[0m \u001b[0mwidth\u001b[0m \u001b[1;33m=\u001b[0m \u001b[1;36m60\u001b[0m\u001b[1;33m)\u001b[0m\u001b[1;33m\u001b[0m\u001b[1;33m\u001b[0m\u001b[0m\n\u001b[0m\u001b[0;32m      2\u001b[0m \u001b[0mprint\u001b[0m\u001b[1;33m(\u001b[0m\u001b[0mnp\u001b[0m\u001b[1;33m.\u001b[0m\u001b[0mshape\u001b[0m\u001b[1;33m(\u001b[0m\u001b[0mtrain\u001b[0m\u001b[1;33m)\u001b[0m\u001b[1;33m,\u001b[0m \u001b[0mnp\u001b[0m\u001b[1;33m.\u001b[0m\u001b[0mshape\u001b[0m\u001b[1;33m(\u001b[0m\u001b[0mval\u001b[0m\u001b[1;33m)\u001b[0m\u001b[1;33m,\u001b[0m \u001b[0mnp\u001b[0m\u001b[1;33m.\u001b[0m\u001b[0mshape\u001b[0m\u001b[1;33m(\u001b[0m\u001b[0mtest\u001b[0m\u001b[1;33m)\u001b[0m\u001b[1;33m,\u001b[0m \u001b[0mnp\u001b[0m\u001b[1;33m.\u001b[0m\u001b[0mshape\u001b[0m\u001b[1;33m(\u001b[0m\u001b[0mtrain_tar\u001b[0m\u001b[1;33m)\u001b[0m\u001b[1;33m,\u001b[0m \u001b[0mnp\u001b[0m\u001b[1;33m.\u001b[0m\u001b[0mshape\u001b[0m\u001b[1;33m(\u001b[0m\u001b[0mval_tar\u001b[0m\u001b[1;33m)\u001b[0m\u001b[1;33m,\u001b[0m \u001b[0mnp\u001b[0m\u001b[1;33m.\u001b[0m\u001b[0mshape\u001b[0m\u001b[1;33m(\u001b[0m\u001b[0mtest_tar\u001b[0m\u001b[1;33m)\u001b[0m\u001b[1;33m)\u001b[0m\u001b[1;33m\u001b[0m\u001b[1;33m\u001b[0m\u001b[0m\n",
      "\u001b[1;32m<ipython-input-2-4311840f88f4>\u001b[0m in \u001b[0;36mdata_prep\u001b[1;34m(num, width, train_split, val_split, rot, flip, shuf, ran_crop, cen_crop)\u001b[0m\n\u001b[0;32m    158\u001b[0m     \u001b[0mprint\u001b[0m\u001b[1;33m(\u001b[0m\u001b[1;34m'Reading Data'\u001b[0m\u001b[1;33m)\u001b[0m\u001b[1;33m\u001b[0m\u001b[1;33m\u001b[0m\u001b[0m\n\u001b[1;32m--> 159\u001b[1;33m     \u001b[0mdat\u001b[0m\u001b[1;33m,\u001b[0m \u001b[0mtar\u001b[0m \u001b[1;33m=\u001b[0m \u001b[0mget_images\u001b[0m\u001b[1;33m(\u001b[0m\u001b[0mfilelist\u001b[0m\u001b[1;33m,\u001b[0m \u001b[0mnum\u001b[0m\u001b[1;33m,\u001b[0m \u001b[0mrot\u001b[0m\u001b[1;33m,\u001b[0m \u001b[0mflip\u001b[0m\u001b[1;33m)\u001b[0m\u001b[1;33m\u001b[0m\u001b[1;33m\u001b[0m\u001b[0m\n\u001b[0m\u001b[0;32m    160\u001b[0m     \u001b[0mprint\u001b[0m\u001b[1;33m(\u001b[0m\u001b[1;34m'Rescaling'\u001b[0m\u001b[1;33m)\u001b[0m\u001b[1;33m\u001b[0m\u001b[1;33m\u001b[0m\u001b[0m\n",
      "\u001b[1;32m<ipython-input-2-4311840f88f4>\u001b[0m in \u001b[0;36mget_images\u001b[1;34m(filelist, number_of_images, rot, flip)\u001b[0m\n\u001b[0;32m     76\u001b[0m \u001b[1;33m\u001b[0m\u001b[0m\n\u001b[1;32m---> 77\u001b[1;33m         \u001b[0m_\u001b[0m \u001b[1;33m=\u001b[0m \u001b[0mnp\u001b[0m\u001b[1;33m.\u001b[0m\u001b[0mexpand_dims\u001b[0m\u001b[1;33m(\u001b[0m\u001b[0mmpimg\u001b[0m\u001b[1;33m.\u001b[0m\u001b[0mimread\u001b[0m\u001b[1;33m(\u001b[0m\u001b[0mi\u001b[0m\u001b[1;33m)\u001b[0m\u001b[1;33m,\u001b[0m \u001b[0maxis\u001b[0m \u001b[1;33m=\u001b[0m \u001b[1;36m0\u001b[0m\u001b[1;33m)\u001b[0m\u001b[1;33m\u001b[0m\u001b[1;33m\u001b[0m\u001b[0m\n\u001b[0m\u001b[0;32m     78\u001b[0m         \u001b[0mjpgs\u001b[0m \u001b[1;33m=\u001b[0m \u001b[0mnp\u001b[0m\u001b[1;33m.\u001b[0m\u001b[0mconcatenate\u001b[0m\u001b[1;33m(\u001b[0m\u001b[1;33m(\u001b[0m\u001b[0mjpgs\u001b[0m\u001b[1;33m,\u001b[0m \u001b[0m_\u001b[0m\u001b[1;33m)\u001b[0m\u001b[1;33m)\u001b[0m\u001b[1;33m\u001b[0m\u001b[1;33m\u001b[0m\u001b[0m\n",
      "\u001b[1;32m~\\.conda\\envs\\tf_gpu\\lib\\site-packages\\matplotlib\\image.py\u001b[0m in \u001b[0;36mimread\u001b[1;34m(fname, format)\u001b[0m\n\u001b[0;32m   1495\u001b[0m                 \u001b[1;32mreturn\u001b[0m \u001b[0mimread\u001b[0m\u001b[1;33m(\u001b[0m\u001b[0mresponse\u001b[0m\u001b[1;33m,\u001b[0m \u001b[0mformat\u001b[0m\u001b[1;33m=\u001b[0m\u001b[0mext\u001b[0m\u001b[1;33m)\u001b[0m\u001b[1;33m\u001b[0m\u001b[1;33m\u001b[0m\u001b[0m\n\u001b[1;32m-> 1496\u001b[1;33m     \u001b[1;32mwith\u001b[0m \u001b[0mimg_open\u001b[0m\u001b[1;33m(\u001b[0m\u001b[0mfname\u001b[0m\u001b[1;33m)\u001b[0m \u001b[1;32mas\u001b[0m \u001b[0mimage\u001b[0m\u001b[1;33m:\u001b[0m\u001b[1;33m\u001b[0m\u001b[1;33m\u001b[0m\u001b[0m\n\u001b[0m\u001b[0;32m   1497\u001b[0m         return (_pil_png_to_float_array(image)\n",
      "\u001b[1;32m~\\.conda\\envs\\tf_gpu\\lib\\site-packages\\PIL\\Image.py\u001b[0m in \u001b[0;36mopen\u001b[1;34m(fp, mode, formats)\u001b[0m\n\u001b[0;32m   2903\u001b[0m     \u001b[1;32mif\u001b[0m \u001b[0mfilename\u001b[0m\u001b[1;33m:\u001b[0m\u001b[1;33m\u001b[0m\u001b[1;33m\u001b[0m\u001b[0m\n\u001b[1;32m-> 2904\u001b[1;33m         \u001b[0mfp\u001b[0m \u001b[1;33m=\u001b[0m \u001b[0mbuiltins\u001b[0m\u001b[1;33m.\u001b[0m\u001b[0mopen\u001b[0m\u001b[1;33m(\u001b[0m\u001b[0mfilename\u001b[0m\u001b[1;33m,\u001b[0m \u001b[1;34m\"rb\"\u001b[0m\u001b[1;33m)\u001b[0m\u001b[1;33m\u001b[0m\u001b[1;33m\u001b[0m\u001b[0m\n\u001b[0m\u001b[0;32m   2905\u001b[0m         \u001b[0mexclusive_fp\u001b[0m \u001b[1;33m=\u001b[0m \u001b[1;32mTrue\u001b[0m\u001b[1;33m\u001b[0m\u001b[1;33m\u001b[0m\u001b[0m\n",
      "\u001b[1;31mKeyboardInterrupt\u001b[0m: ",
      "\nDuring handling of the above exception, another exception occurred:\n",
      "\u001b[1;31mAttributeError\u001b[0m                            Traceback (most recent call last)",
      "\u001b[1;32m~\\.conda\\envs\\tf_gpu\\lib\\site-packages\\IPython\\core\\interactiveshell.py\u001b[0m in \u001b[0;36mshowtraceback\u001b[1;34m(self, exc_tuple, filename, tb_offset, exception_only, running_compiled_code)\u001b[0m\n\u001b[0;32m   2060\u001b[0m                         \u001b[1;31m# in the engines. This should return a list of strings.\u001b[0m\u001b[1;33m\u001b[0m\u001b[1;33m\u001b[0m\u001b[1;33m\u001b[0m\u001b[0m\n\u001b[1;32m-> 2061\u001b[1;33m                         \u001b[0mstb\u001b[0m \u001b[1;33m=\u001b[0m \u001b[0mvalue\u001b[0m\u001b[1;33m.\u001b[0m\u001b[0m_render_traceback_\u001b[0m\u001b[1;33m(\u001b[0m\u001b[1;33m)\u001b[0m\u001b[1;33m\u001b[0m\u001b[1;33m\u001b[0m\u001b[0m\n\u001b[0m\u001b[0;32m   2062\u001b[0m                     \u001b[1;32mexcept\u001b[0m \u001b[0mException\u001b[0m\u001b[1;33m:\u001b[0m\u001b[1;33m\u001b[0m\u001b[1;33m\u001b[0m\u001b[0m\n",
      "\u001b[1;31mAttributeError\u001b[0m: 'KeyboardInterrupt' object has no attribute '_render_traceback_'",
      "\nDuring handling of the above exception, another exception occurred:\n",
      "\u001b[1;31mTypeError\u001b[0m                                 Traceback (most recent call last)",
      "\u001b[1;32m~\\.conda\\envs\\tf_gpu\\lib\\site-packages\\IPython\\core\\interactiveshell.py\u001b[0m in \u001b[0;36mrun_ast_nodes\u001b[1;34m(self, nodelist, cell_name, interactivity, compiler, result)\u001b[0m\n\u001b[0;32m   3356\u001b[0m                         \u001b[0masy\u001b[0m \u001b[1;33m=\u001b[0m \u001b[0mcompare\u001b[0m\u001b[1;33m(\u001b[0m\u001b[0mcode\u001b[0m\u001b[1;33m)\u001b[0m\u001b[1;33m\u001b[0m\u001b[1;33m\u001b[0m\u001b[0m\n\u001b[1;32m-> 3357\u001b[1;33m                     \u001b[1;32mif\u001b[0m \u001b[1;33m(\u001b[0m\u001b[1;32mawait\u001b[0m \u001b[0mself\u001b[0m\u001b[1;33m.\u001b[0m\u001b[0mrun_code\u001b[0m\u001b[1;33m(\u001b[0m\u001b[0mcode\u001b[0m\u001b[1;33m,\u001b[0m \u001b[0mresult\u001b[0m\u001b[1;33m,\u001b[0m  \u001b[0masync_\u001b[0m\u001b[1;33m=\u001b[0m\u001b[0masy\u001b[0m\u001b[1;33m)\u001b[0m\u001b[1;33m)\u001b[0m\u001b[1;33m:\u001b[0m\u001b[1;33m\u001b[0m\u001b[1;33m\u001b[0m\u001b[0m\n\u001b[0m\u001b[0;32m   3358\u001b[0m                         \u001b[1;32mreturn\u001b[0m \u001b[1;32mTrue\u001b[0m\u001b[1;33m\u001b[0m\u001b[1;33m\u001b[0m\u001b[0m\n",
      "    \u001b[1;31m[... skipping hidden 1 frame]\u001b[0m\n",
      "\u001b[1;32m~\\.conda\\envs\\tf_gpu\\lib\\site-packages\\IPython\\core\\interactiveshell.py\u001b[0m in \u001b[0;36mshowtraceback\u001b[1;34m(self, exc_tuple, filename, tb_offset, exception_only, running_compiled_code)\u001b[0m\n\u001b[0;32m   2062\u001b[0m                     \u001b[1;32mexcept\u001b[0m \u001b[0mException\u001b[0m\u001b[1;33m:\u001b[0m\u001b[1;33m\u001b[0m\u001b[1;33m\u001b[0m\u001b[0m\n\u001b[1;32m-> 2063\u001b[1;33m                         stb = self.InteractiveTB.structured_traceback(etype,\n\u001b[0m\u001b[0;32m   2064\u001b[0m                                             value, tb, tb_offset=tb_offset)\n",
      "\u001b[1;32m~\\.conda\\envs\\tf_gpu\\lib\\site-packages\\IPython\\core\\ultratb.py\u001b[0m in \u001b[0;36mstructured_traceback\u001b[1;34m(self, etype, value, tb, tb_offset, number_of_lines_of_context)\u001b[0m\n\u001b[0;32m   1366\u001b[0m             \u001b[0mself\u001b[0m\u001b[1;33m.\u001b[0m\u001b[0mtb\u001b[0m \u001b[1;33m=\u001b[0m \u001b[0mtb\u001b[0m\u001b[1;33m\u001b[0m\u001b[1;33m\u001b[0m\u001b[0m\n\u001b[1;32m-> 1367\u001b[1;33m         return FormattedTB.structured_traceback(\n\u001b[0m\u001b[0;32m   1368\u001b[0m             self, etype, value, tb, tb_offset, number_of_lines_of_context)\n",
      "\u001b[1;32m~\\.conda\\envs\\tf_gpu\\lib\\site-packages\\IPython\\core\\ultratb.py\u001b[0m in \u001b[0;36mstructured_traceback\u001b[1;34m(self, etype, value, tb, tb_offset, number_of_lines_of_context)\u001b[0m\n\u001b[0;32m   1266\u001b[0m             \u001b[1;31m# Verbose modes need a full traceback\u001b[0m\u001b[1;33m\u001b[0m\u001b[1;33m\u001b[0m\u001b[1;33m\u001b[0m\u001b[0m\n\u001b[1;32m-> 1267\u001b[1;33m             return VerboseTB.structured_traceback(\n\u001b[0m\u001b[0;32m   1268\u001b[0m                 \u001b[0mself\u001b[0m\u001b[1;33m,\u001b[0m \u001b[0metype\u001b[0m\u001b[1;33m,\u001b[0m \u001b[0mvalue\u001b[0m\u001b[1;33m,\u001b[0m \u001b[0mtb\u001b[0m\u001b[1;33m,\u001b[0m \u001b[0mtb_offset\u001b[0m\u001b[1;33m,\u001b[0m \u001b[0mnumber_of_lines_of_context\u001b[0m\u001b[1;33m\u001b[0m\u001b[1;33m\u001b[0m\u001b[0m\n",
      "\u001b[1;32m~\\.conda\\envs\\tf_gpu\\lib\\site-packages\\IPython\\core\\ultratb.py\u001b[0m in \u001b[0;36mstructured_traceback\u001b[1;34m(self, etype, evalue, etb, tb_offset, number_of_lines_of_context)\u001b[0m\n\u001b[0;32m   1123\u001b[0m \u001b[1;33m\u001b[0m\u001b[0m\n\u001b[1;32m-> 1124\u001b[1;33m         formatted_exception = self.format_exception_as_a_whole(etype, evalue, etb, number_of_lines_of_context,\n\u001b[0m\u001b[0;32m   1125\u001b[0m                                                                tb_offset)\n",
      "\u001b[1;32m~\\.conda\\envs\\tf_gpu\\lib\\site-packages\\IPython\\core\\ultratb.py\u001b[0m in \u001b[0;36mformat_exception_as_a_whole\u001b[1;34m(self, etype, evalue, etb, number_of_lines_of_context, tb_offset)\u001b[0m\n\u001b[0;32m   1081\u001b[0m \u001b[1;33m\u001b[0m\u001b[0m\n\u001b[1;32m-> 1082\u001b[1;33m         \u001b[0mlast_unique\u001b[0m\u001b[1;33m,\u001b[0m \u001b[0mrecursion_repeat\u001b[0m \u001b[1;33m=\u001b[0m \u001b[0mfind_recursion\u001b[0m\u001b[1;33m(\u001b[0m\u001b[0morig_etype\u001b[0m\u001b[1;33m,\u001b[0m \u001b[0mevalue\u001b[0m\u001b[1;33m,\u001b[0m \u001b[0mrecords\u001b[0m\u001b[1;33m)\u001b[0m\u001b[1;33m\u001b[0m\u001b[1;33m\u001b[0m\u001b[0m\n\u001b[0m\u001b[0;32m   1083\u001b[0m \u001b[1;33m\u001b[0m\u001b[0m\n",
      "\u001b[1;32m~\\.conda\\envs\\tf_gpu\\lib\\site-packages\\IPython\\core\\ultratb.py\u001b[0m in \u001b[0;36mfind_recursion\u001b[1;34m(etype, value, records)\u001b[0m\n\u001b[0;32m    381\u001b[0m     \u001b[1;32mif\u001b[0m \u001b[1;32mnot\u001b[0m \u001b[0mis_recursion_error\u001b[0m\u001b[1;33m(\u001b[0m\u001b[0metype\u001b[0m\u001b[1;33m,\u001b[0m \u001b[0mvalue\u001b[0m\u001b[1;33m,\u001b[0m \u001b[0mrecords\u001b[0m\u001b[1;33m)\u001b[0m\u001b[1;33m:\u001b[0m\u001b[1;33m\u001b[0m\u001b[1;33m\u001b[0m\u001b[0m\n\u001b[1;32m--> 382\u001b[1;33m         \u001b[1;32mreturn\u001b[0m \u001b[0mlen\u001b[0m\u001b[1;33m(\u001b[0m\u001b[0mrecords\u001b[0m\u001b[1;33m)\u001b[0m\u001b[1;33m,\u001b[0m \u001b[1;36m0\u001b[0m\u001b[1;33m\u001b[0m\u001b[1;33m\u001b[0m\u001b[0m\n\u001b[0m\u001b[0;32m    383\u001b[0m \u001b[1;33m\u001b[0m\u001b[0m\n",
      "\u001b[1;31mTypeError\u001b[0m: object of type 'NoneType' has no len()",
      "\nDuring handling of the above exception, another exception occurred:\n",
      "\u001b[1;31mAttributeError\u001b[0m                            Traceback (most recent call last)",
      "\u001b[1;32m~\\.conda\\envs\\tf_gpu\\lib\\site-packages\\IPython\\core\\interactiveshell.py\u001b[0m in \u001b[0;36mshowtraceback\u001b[1;34m(self, exc_tuple, filename, tb_offset, exception_only, running_compiled_code)\u001b[0m\n\u001b[0;32m   2060\u001b[0m                         \u001b[1;31m# in the engines. This should return a list of strings.\u001b[0m\u001b[1;33m\u001b[0m\u001b[1;33m\u001b[0m\u001b[1;33m\u001b[0m\u001b[0m\n\u001b[1;32m-> 2061\u001b[1;33m                         \u001b[0mstb\u001b[0m \u001b[1;33m=\u001b[0m \u001b[0mvalue\u001b[0m\u001b[1;33m.\u001b[0m\u001b[0m_render_traceback_\u001b[0m\u001b[1;33m(\u001b[0m\u001b[1;33m)\u001b[0m\u001b[1;33m\u001b[0m\u001b[1;33m\u001b[0m\u001b[0m\n\u001b[0m\u001b[0;32m   2062\u001b[0m                     \u001b[1;32mexcept\u001b[0m \u001b[0mException\u001b[0m\u001b[1;33m:\u001b[0m\u001b[1;33m\u001b[0m\u001b[1;33m\u001b[0m\u001b[0m\n",
      "\u001b[1;31mAttributeError\u001b[0m: 'TypeError' object has no attribute '_render_traceback_'",
      "\nDuring handling of the above exception, another exception occurred:\n",
      "\u001b[1;31mTypeError\u001b[0m                                 Traceback (most recent call last)",
      "\u001b[1;32m~\\.conda\\envs\\tf_gpu\\lib\\site-packages\\IPython\\core\\async_helpers.py\u001b[0m in \u001b[0;36m_pseudo_sync_runner\u001b[1;34m(coro)\u001b[0m\n\u001b[0;32m     66\u001b[0m     \"\"\"\n\u001b[0;32m     67\u001b[0m     \u001b[1;32mtry\u001b[0m\u001b[1;33m:\u001b[0m\u001b[1;33m\u001b[0m\u001b[1;33m\u001b[0m\u001b[0m\n\u001b[1;32m---> 68\u001b[1;33m         \u001b[0mcoro\u001b[0m\u001b[1;33m.\u001b[0m\u001b[0msend\u001b[0m\u001b[1;33m(\u001b[0m\u001b[1;32mNone\u001b[0m\u001b[1;33m)\u001b[0m\u001b[1;33m\u001b[0m\u001b[1;33m\u001b[0m\u001b[0m\n\u001b[0m\u001b[0;32m     69\u001b[0m     \u001b[1;32mexcept\u001b[0m \u001b[0mStopIteration\u001b[0m \u001b[1;32mas\u001b[0m \u001b[0mexc\u001b[0m\u001b[1;33m:\u001b[0m\u001b[1;33m\u001b[0m\u001b[1;33m\u001b[0m\u001b[0m\n\u001b[0;32m     70\u001b[0m         \u001b[1;32mreturn\u001b[0m \u001b[0mexc\u001b[0m\u001b[1;33m.\u001b[0m\u001b[0mvalue\u001b[0m\u001b[1;33m\u001b[0m\u001b[1;33m\u001b[0m\u001b[0m\n",
      "\u001b[1;32m~\\.conda\\envs\\tf_gpu\\lib\\site-packages\\IPython\\core\\interactiveshell.py\u001b[0m in \u001b[0;36mrun_cell_async\u001b[1;34m(self, raw_cell, store_history, silent, shell_futures, transformed_cell, preprocessing_exc_tuple)\u001b[0m\n\u001b[0;32m   3163\u001b[0m                     \u001b[0minteractivity\u001b[0m \u001b[1;33m=\u001b[0m \u001b[1;34m'async'\u001b[0m\u001b[1;33m\u001b[0m\u001b[1;33m\u001b[0m\u001b[0m\n\u001b[0;32m   3164\u001b[0m \u001b[1;33m\u001b[0m\u001b[0m\n\u001b[1;32m-> 3165\u001b[1;33m                 has_raised = await self.run_ast_nodes(code_ast.body, cell_name,\n\u001b[0m\u001b[0;32m   3166\u001b[0m                        interactivity=interactivity, compiler=compiler, result=result)\n\u001b[0;32m   3167\u001b[0m \u001b[1;33m\u001b[0m\u001b[0m\n",
      "\u001b[1;32m~\\.conda\\envs\\tf_gpu\\lib\\site-packages\\IPython\\core\\interactiveshell.py\u001b[0m in \u001b[0;36mrun_ast_nodes\u001b[1;34m(self, nodelist, cell_name, interactivity, compiler, result)\u001b[0m\n\u001b[0;32m   3374\u001b[0m             \u001b[1;32mif\u001b[0m \u001b[0mresult\u001b[0m\u001b[1;33m:\u001b[0m\u001b[1;33m\u001b[0m\u001b[1;33m\u001b[0m\u001b[0m\n\u001b[0;32m   3375\u001b[0m                 \u001b[0mresult\u001b[0m\u001b[1;33m.\u001b[0m\u001b[0merror_before_exec\u001b[0m \u001b[1;33m=\u001b[0m \u001b[0msys\u001b[0m\u001b[1;33m.\u001b[0m\u001b[0mexc_info\u001b[0m\u001b[1;33m(\u001b[0m\u001b[1;33m)\u001b[0m\u001b[1;33m[\u001b[0m\u001b[1;36m1\u001b[0m\u001b[1;33m]\u001b[0m\u001b[1;33m\u001b[0m\u001b[1;33m\u001b[0m\u001b[0m\n\u001b[1;32m-> 3376\u001b[1;33m             \u001b[0mself\u001b[0m\u001b[1;33m.\u001b[0m\u001b[0mshowtraceback\u001b[0m\u001b[1;33m(\u001b[0m\u001b[1;33m)\u001b[0m\u001b[1;33m\u001b[0m\u001b[1;33m\u001b[0m\u001b[0m\n\u001b[0m\u001b[0;32m   3377\u001b[0m             \u001b[1;32mreturn\u001b[0m \u001b[1;32mTrue\u001b[0m\u001b[1;33m\u001b[0m\u001b[1;33m\u001b[0m\u001b[0m\n\u001b[0;32m   3378\u001b[0m \u001b[1;33m\u001b[0m\u001b[0m\n",
      "\u001b[1;32m~\\.conda\\envs\\tf_gpu\\lib\\site-packages\\IPython\\core\\interactiveshell.py\u001b[0m in \u001b[0;36mshowtraceback\u001b[1;34m(self, exc_tuple, filename, tb_offset, exception_only, running_compiled_code)\u001b[0m\n\u001b[0;32m   2061\u001b[0m                         \u001b[0mstb\u001b[0m \u001b[1;33m=\u001b[0m \u001b[0mvalue\u001b[0m\u001b[1;33m.\u001b[0m\u001b[0m_render_traceback_\u001b[0m\u001b[1;33m(\u001b[0m\u001b[1;33m)\u001b[0m\u001b[1;33m\u001b[0m\u001b[1;33m\u001b[0m\u001b[0m\n\u001b[0;32m   2062\u001b[0m                     \u001b[1;32mexcept\u001b[0m \u001b[0mException\u001b[0m\u001b[1;33m:\u001b[0m\u001b[1;33m\u001b[0m\u001b[1;33m\u001b[0m\u001b[0m\n\u001b[1;32m-> 2063\u001b[1;33m                         stb = self.InteractiveTB.structured_traceback(etype,\n\u001b[0m\u001b[0;32m   2064\u001b[0m                                             value, tb, tb_offset=tb_offset)\n\u001b[0;32m   2065\u001b[0m \u001b[1;33m\u001b[0m\u001b[0m\n",
      "\u001b[1;32m~\\.conda\\envs\\tf_gpu\\lib\\site-packages\\IPython\\core\\ultratb.py\u001b[0m in \u001b[0;36mstructured_traceback\u001b[1;34m(self, etype, value, tb, tb_offset, number_of_lines_of_context)\u001b[0m\n\u001b[0;32m   1365\u001b[0m         \u001b[1;32melse\u001b[0m\u001b[1;33m:\u001b[0m\u001b[1;33m\u001b[0m\u001b[1;33m\u001b[0m\u001b[0m\n\u001b[0;32m   1366\u001b[0m             \u001b[0mself\u001b[0m\u001b[1;33m.\u001b[0m\u001b[0mtb\u001b[0m \u001b[1;33m=\u001b[0m \u001b[0mtb\u001b[0m\u001b[1;33m\u001b[0m\u001b[1;33m\u001b[0m\u001b[0m\n\u001b[1;32m-> 1367\u001b[1;33m         return FormattedTB.structured_traceback(\n\u001b[0m\u001b[0;32m   1368\u001b[0m             self, etype, value, tb, tb_offset, number_of_lines_of_context)\n\u001b[0;32m   1369\u001b[0m \u001b[1;33m\u001b[0m\u001b[0m\n",
      "\u001b[1;32m~\\.conda\\envs\\tf_gpu\\lib\\site-packages\\IPython\\core\\ultratb.py\u001b[0m in \u001b[0;36mstructured_traceback\u001b[1;34m(self, etype, value, tb, tb_offset, number_of_lines_of_context)\u001b[0m\n\u001b[0;32m   1265\u001b[0m         \u001b[1;32mif\u001b[0m \u001b[0mmode\u001b[0m \u001b[1;32min\u001b[0m \u001b[0mself\u001b[0m\u001b[1;33m.\u001b[0m\u001b[0mverbose_modes\u001b[0m\u001b[1;33m:\u001b[0m\u001b[1;33m\u001b[0m\u001b[1;33m\u001b[0m\u001b[0m\n\u001b[0;32m   1266\u001b[0m             \u001b[1;31m# Verbose modes need a full traceback\u001b[0m\u001b[1;33m\u001b[0m\u001b[1;33m\u001b[0m\u001b[1;33m\u001b[0m\u001b[0m\n\u001b[1;32m-> 1267\u001b[1;33m             return VerboseTB.structured_traceback(\n\u001b[0m\u001b[0;32m   1268\u001b[0m                 \u001b[0mself\u001b[0m\u001b[1;33m,\u001b[0m \u001b[0metype\u001b[0m\u001b[1;33m,\u001b[0m \u001b[0mvalue\u001b[0m\u001b[1;33m,\u001b[0m \u001b[0mtb\u001b[0m\u001b[1;33m,\u001b[0m \u001b[0mtb_offset\u001b[0m\u001b[1;33m,\u001b[0m \u001b[0mnumber_of_lines_of_context\u001b[0m\u001b[1;33m\u001b[0m\u001b[1;33m\u001b[0m\u001b[0m\n\u001b[0;32m   1269\u001b[0m             )\n",
      "\u001b[1;32m~\\.conda\\envs\\tf_gpu\\lib\\site-packages\\IPython\\core\\ultratb.py\u001b[0m in \u001b[0;36mstructured_traceback\u001b[1;34m(self, etype, evalue, etb, tb_offset, number_of_lines_of_context)\u001b[0m\n\u001b[0;32m   1140\u001b[0m         \u001b[0mchained_exc_ids\u001b[0m \u001b[1;33m=\u001b[0m \u001b[0mset\u001b[0m\u001b[1;33m(\u001b[0m\u001b[1;33m)\u001b[0m\u001b[1;33m\u001b[0m\u001b[1;33m\u001b[0m\u001b[0m\n\u001b[0;32m   1141\u001b[0m         \u001b[1;32mwhile\u001b[0m \u001b[0mevalue\u001b[0m\u001b[1;33m:\u001b[0m\u001b[1;33m\u001b[0m\u001b[1;33m\u001b[0m\u001b[0m\n\u001b[1;32m-> 1142\u001b[1;33m             formatted_exceptions += self.format_exception_as_a_whole(etype, evalue, etb, lines_of_context,\n\u001b[0m\u001b[0;32m   1143\u001b[0m                                                                      chained_exceptions_tb_offset)\n\u001b[0;32m   1144\u001b[0m             \u001b[0mexception\u001b[0m \u001b[1;33m=\u001b[0m \u001b[0mself\u001b[0m\u001b[1;33m.\u001b[0m\u001b[0mget_parts_of_chained_exception\u001b[0m\u001b[1;33m(\u001b[0m\u001b[0mevalue\u001b[0m\u001b[1;33m)\u001b[0m\u001b[1;33m\u001b[0m\u001b[1;33m\u001b[0m\u001b[0m\n",
      "\u001b[1;32m~\\.conda\\envs\\tf_gpu\\lib\\site-packages\\IPython\\core\\ultratb.py\u001b[0m in \u001b[0;36mformat_exception_as_a_whole\u001b[1;34m(self, etype, evalue, etb, number_of_lines_of_context, tb_offset)\u001b[0m\n\u001b[0;32m   1080\u001b[0m \u001b[1;33m\u001b[0m\u001b[0m\n\u001b[0;32m   1081\u001b[0m \u001b[1;33m\u001b[0m\u001b[0m\n\u001b[1;32m-> 1082\u001b[1;33m         \u001b[0mlast_unique\u001b[0m\u001b[1;33m,\u001b[0m \u001b[0mrecursion_repeat\u001b[0m \u001b[1;33m=\u001b[0m \u001b[0mfind_recursion\u001b[0m\u001b[1;33m(\u001b[0m\u001b[0morig_etype\u001b[0m\u001b[1;33m,\u001b[0m \u001b[0mevalue\u001b[0m\u001b[1;33m,\u001b[0m \u001b[0mrecords\u001b[0m\u001b[1;33m)\u001b[0m\u001b[1;33m\u001b[0m\u001b[1;33m\u001b[0m\u001b[0m\n\u001b[0m\u001b[0;32m   1083\u001b[0m \u001b[1;33m\u001b[0m\u001b[0m\n\u001b[0;32m   1084\u001b[0m         \u001b[0mframes\u001b[0m \u001b[1;33m=\u001b[0m \u001b[0mself\u001b[0m\u001b[1;33m.\u001b[0m\u001b[0mformat_records\u001b[0m\u001b[1;33m(\u001b[0m\u001b[0mrecords\u001b[0m\u001b[1;33m,\u001b[0m \u001b[0mlast_unique\u001b[0m\u001b[1;33m,\u001b[0m \u001b[0mrecursion_repeat\u001b[0m\u001b[1;33m)\u001b[0m\u001b[1;33m\u001b[0m\u001b[1;33m\u001b[0m\u001b[0m\n",
      "\u001b[1;32m~\\.conda\\envs\\tf_gpu\\lib\\site-packages\\IPython\\core\\ultratb.py\u001b[0m in \u001b[0;36mfind_recursion\u001b[1;34m(etype, value, records)\u001b[0m\n\u001b[0;32m    380\u001b[0m     \u001b[1;31m# first frame (from in to out) that looks different.\u001b[0m\u001b[1;33m\u001b[0m\u001b[1;33m\u001b[0m\u001b[1;33m\u001b[0m\u001b[0m\n\u001b[0;32m    381\u001b[0m     \u001b[1;32mif\u001b[0m \u001b[1;32mnot\u001b[0m \u001b[0mis_recursion_error\u001b[0m\u001b[1;33m(\u001b[0m\u001b[0metype\u001b[0m\u001b[1;33m,\u001b[0m \u001b[0mvalue\u001b[0m\u001b[1;33m,\u001b[0m \u001b[0mrecords\u001b[0m\u001b[1;33m)\u001b[0m\u001b[1;33m:\u001b[0m\u001b[1;33m\u001b[0m\u001b[1;33m\u001b[0m\u001b[0m\n\u001b[1;32m--> 382\u001b[1;33m         \u001b[1;32mreturn\u001b[0m \u001b[0mlen\u001b[0m\u001b[1;33m(\u001b[0m\u001b[0mrecords\u001b[0m\u001b[1;33m)\u001b[0m\u001b[1;33m,\u001b[0m \u001b[1;36m0\u001b[0m\u001b[1;33m\u001b[0m\u001b[1;33m\u001b[0m\u001b[0m\n\u001b[0m\u001b[0;32m    383\u001b[0m \u001b[1;33m\u001b[0m\u001b[0m\n\u001b[0;32m    384\u001b[0m     \u001b[1;31m# Select filename, lineno, func_name to track frames with\u001b[0m\u001b[1;33m\u001b[0m\u001b[1;33m\u001b[0m\u001b[1;33m\u001b[0m\u001b[0m\n",
      "\u001b[1;31mTypeError\u001b[0m: object of type 'NoneType' has no len()"
     ]
    }
   ],
   "source": [
    "train, val, test, train_tar, val_tar, test_tar = data_prep(num = 5000, width = 60)\n",
    "print(np.shape(train), np.shape(val), np.shape(test), np.shape(train_tar), np.shape(val_tar), np.shape(test_tar))"
   ]
  },
  {
   "cell_type": "code",
   "execution_count": null,
   "id": "limiting-commerce",
   "metadata": {},
   "outputs": [],
   "source": [
    "from sklearn.ensemble import GradientBoostingRegressor\n",
    "from sklearn.metrics import accuracy_score\n",
    "from hyperopt import fmin, tpe, hp, STATUS_OK, Trials"
   ]
  },
  {
   "cell_type": "code",
   "execution_count": 6,
   "id": "narrative-oakland",
   "metadata": {
    "scrolled": true
   },
   "outputs": [],
   "source": [
    "def objective(hyperparameters):\n",
    "    if hyperparameters['max_depth'] == 0:\n",
    "        hyperparameters['max_depth'] = 1\n",
    "    if hyperparameters['n_estimators'] == 0:\n",
    "        hyperparameters['n_estimators'] = 1\n",
    "    if hyperparameters['min_samples_split'] == 0:\n",
    "        hyperparameters['min_samples_split'] = 1\n",
    "    if hyperparameters['min_samples_leaf'] == 0:\n",
    "        hyperparameters['min_samples_leaf'] = 1\n",
    "    gbr = GradientBoostingRegressor(**hyperparameters)\n",
    "    gbr.fit(train, train_tar)\n",
    "    \n",
    "    a = gbr.predict(val)\n",
    "    b = val_tar\n",
    "    c = np.sum(np.sqrt(np.abs(a-b)))\n",
    "    \n",
    "    return {'loss':c, 'status': STATUS_OK}"
   ]
  },
  {
   "cell_type": "code",
   "execution_count": 7,
   "id": "internal-waterproof",
   "metadata": {},
   "outputs": [],
   "source": [
    "space ={\n",
    "    'loss': hp.choice('loss', ['ls', 'huber', 'lad']),\n",
    "    'criterion': hp.choice('criterion', ['friedman_mse', 'mse']),\n",
    "    'learning_rate': hp.loguniform('learning_rate', np.log(0.01), np.log(0.4)),\n",
    "    'n_estimators': hp.randint('n_estimators', 150),\n",
    "    'min_samples_split': hp.randint('min_samples_split', 50),\n",
    "    'min_samples_leaf': hp.randint('min_samples_leaf', 51),\n",
    "    'max_depth': hp.randint('max_depth', 16)\n",
    "}"
   ]
  },
  {
   "cell_type": "code",
   "execution_count": 8,
   "id": "suffering-worker",
   "metadata": {},
   "outputs": [],
   "source": [
    "bayes_trials = Trials()"
   ]
  },
  {
   "cell_type": "code",
   "execution_count": 9,
   "id": "divided-surfing",
   "metadata": {},
   "outputs": [],
   "source": [
    "tpe_alg = tpe.suggest"
   ]
  },
  {
   "cell_type": "code",
   "execution_count": 13,
   "id": "fourth-exception",
   "metadata": {
    "collapsed": true
   },
   "outputs": [
    {
     "name": "stdout",
     "output_type": "stream",
     "text": [
      "100%|█████████████████████████████████████████████| 50/50 [7:27:56<00:00, 959.88s/trial, best loss: 189.47972682302768]\n"
     ]
    }
   ],
   "source": [
    "MAX_EVALS = 50\n",
    "\n",
    "best = fmin(objective, space = space, \n",
    "            algo = tpe.suggest, max_evals=MAX_EVALS, trials=bayes_trials)"
   ]
  },
  {
   "cell_type": "code",
   "execution_count": 16,
   "id": "civil-arthritis",
   "metadata": {
    "collapsed": true
   },
   "outputs": [
    {
     "name": "stdout",
     "output_type": "stream",
     "text": [
      "{'criterion': 0, 'learning_rate': 0.05184643843759477, 'loss': 1, 'max_depth': 14, 'min_samples_leaf': 12, 'min_samples_split': 43, 'n_estimators': 77}\n"
     ]
    }
   ],
   "source": [
    "print(best)"
   ]
  },
  {
   "cell_type": "code",
   "execution_count": 18,
   "id": "dressed-beaver",
   "metadata": {
    "collapsed": true
   },
   "outputs": [
    {
     "data": {
      "text/plain": [
       "GradientBoostingRegressor(learning_rate=0.52, loss='huber', max_depth=14,\n",
       "                          min_samples_leaf=12, min_samples_split=43,\n",
       "                          n_estimators=77)"
      ]
     },
     "execution_count": 18,
     "metadata": {},
     "output_type": "execute_result"
    }
   ],
   "source": [
    "gbr1 = GradientBoostingRegressor(loss = 'huber', criterion='friedman_mse', \n",
    "                                 learning_rate = 0.52, max_depth = 14, min_samples_leaf=12, \n",
    "                                 min_samples_split=43, n_estimators=77)\n",
    "gbr1.fit(train, train_tar)"
   ]
  },
  {
   "cell_type": "code",
   "execution_count": 99,
   "id": "excess-boring",
   "metadata": {
    "collapsed": true
   },
   "outputs": [
    {
     "name": "stdout",
     "output_type": "stream",
     "text": [
      "[0.1565693  0.16869738 0.14757276 ... 0.46522716 0.44723541 0.01768261]\n"
     ]
    },
    {
     "data": {
      "text/plain": [
       "0.48714080055029674"
      ]
     },
     "execution_count": 99,
     "metadata": {},
     "output_type": "execute_result"
    }
   ],
   "source": [
    "pred_val = gbr1.predict(val)\n",
    "devia = np.abs(pred - val_tar)\n",
    "devia_perc = devia / val_tar\n",
    "print(devia_perc)\n",
    "np.sqrt(np.mean(devia**2))"
   ]
  },
  {
   "cell_type": "code",
   "execution_count": 100,
   "id": "adverse-effort",
   "metadata": {
    "collapsed": true
   },
   "outputs": [
    {
     "data": {
      "text/plain": [
       "Text(0.5, 0, 'deviation')"
      ]
     },
     "execution_count": 100,
     "metadata": {},
     "output_type": "execute_result"
    },
    {
     "data": {
      "image/png": "[encoded data removed]",
      "text/plain": [
       "<Figure size 432x288 with 1 Axes>"
      ]
     },
     "metadata": {
      "needs_background": "light"
     },
     "output_type": "display_data"
    }
   ],
   "source": [
    "plt.hist(devia, 100, (0,0.3))\n",
    "plt.xlabel('deviation')"
   ]
  },
  {
   "cell_type": "code",
   "execution_count": 102,
   "id": "touched-newport",
   "metadata": {
    "collapsed": true
   },
   "outputs": [
    {
     "data": {
      "text/plain": [
       "<matplotlib.legend.Legend at 0x22d15f47640>"
      ]
     },
     "execution_count": 102,
     "metadata": {},
     "output_type": "execute_result"
    },
    {
     "data": {
      "image/png": "[encoded data removed]",
      "text/plain": [
       "<Figure size 432x288 with 1 Axes>"
      ]
     },
     "metadata": {
      "needs_background": "light"
     },
     "output_type": "display_data"
    }
   ],
   "source": [
    "plt.hist(pred_val,100, (0,1), alpha = 0.5, label = 'prediction')\n",
    "plt.hist(val_tar,100, (0,1), alpha = 0.5, label = 'target')\n",
    "plt.xlabel('z')\n",
    "plt.legend()\n",
    "plt.savefig('Val_Dist')"
   ]
  },
  {
   "cell_type": "code",
   "execution_count": 105,
   "id": "likely-contamination",
   "metadata": {
    "collapsed": true
   },
   "outputs": [
    {
     "data": {
      "text/plain": [
       "Text(0.5, 1.0, 'Validation')"
      ]
     },
     "execution_count": 105,
     "metadata": {},
     "output_type": "execute_result"
    },
    {
     "data": {
      "image/png": "[encoded data removed]",
      "text/plain": [
       "<Figure size 432x288 with 1 Axes>"
      ]
     },
     "metadata": {
      "needs_background": "light"
     },
     "output_type": "display_data"
    }
   ],
   "source": [
    "plt.scatter(pred_val, val_tar, alpha = 0.4)\n",
    "plt.plot([0,1],[0,1], colors = 'black')\n",
    "plt.xlabel('Predictions')\n",
    "plt.xlim((0,1))\n",
    "plt.ylim((0,1))\n",
    "plt.ylabel('Targets')\n",
    "plt.title('Validation')\n",
    "plt.savefig('Val_Pedict')"
   ]
  },
  {
   "cell_type": "code",
   "execution_count": 112,
   "id": "incomplete-gospel",
   "metadata": {
    "collapsed": true
   },
   "outputs": [
    {
     "data": {
      "text/plain": [
       "Text(0.5, 1.0, 'Test')"
      ]
     },
     "execution_count": 112,
     "metadata": {},
     "output_type": "execute_result"
    },
    {
     "data": {
      "image/png": "[encoded data removed]",
      "text/plain": [
       "<Figure size 432x288 with 1 Axes>"
      ]
     },
     "metadata": {
      "needs_background": "light"
     },
     "output_type": "display_data"
    }
   ],
   "source": [
    "pred_test = gbr1.predict(test)\n",
    "plt.scatter(pred_test, test_tar, alpha = 0.4, colors = 'black')\n",
    "plt.plot([0,1],[0,1])\n",
    "plt.xlim((0,1))\n",
    "plt.ylim((0,1))\n",
    "plt.xlabel('Predictions')\n",
    "plt.ylabel('Targets')\n",
    "plt.title('Test')\n",
    "plt.savefig('Test_Predict')"
   ]
  },
  {
   "cell_type": "code",
   "execution_count": 113,
   "id": "polar-winter",
   "metadata": {
    "collapsed": true
   },
   "outputs": [
    {
     "name": "stdout",
     "output_type": "stream",
     "text": [
      "Reading Data\n",
      "1\n",
      "2\n",
      "3\n",
      "4\n",
      "5\n",
      "6\n",
      "7\n",
      "8\n",
      "9\n",
      "10\n",
      "11\n",
      "12\n",
      "13\n",
      "14\n",
      "15\n",
      "16\n",
      "17\n",
      "18\n",
      "19\n",
      "20\n",
      "21\n",
      "22\n",
      "23\n",
      "24\n",
      "25\n",
      "26\n",
      "27\n",
      "28\n",
      "29\n",
      "30\n",
      "31\n",
      "32\n",
      "33\n",
      "34\n",
      "35\n",
      "36\n",
      "37\n",
      "38\n",
      "39\n",
      "40\n",
      "41\n",
      "42\n",
      "43\n",
      "44\n",
      "45\n",
      "46\n",
      "47\n",
      "48\n",
      "49\n",
      "50\n",
      "51\n",
      "52\n",
      "53\n",
      "54\n",
      "55\n",
      "56\n",
      "57\n",
      "58\n",
      "59\n",
      "60\n",
      "61\n",
      "62\n",
      "63\n",
      "64\n",
      "65\n",
      "66\n",
      "67\n",
      "68\n",
      "69\n",
      "70\n",
      "71\n",
      "72\n",
      "73\n",
      "74\n",
      "75\n",
      "76\n",
      "77\n",
      "78\n",
      "79\n",
      "80\n",
      "81\n",
      "82\n",
      "83\n",
      "84\n",
      "85\n",
      "86\n",
      "87\n",
      "88\n",
      "89\n",
      "90\n",
      "91\n",
      "92\n",
      "93\n",
      "94\n",
      "95\n",
      "96\n",
      "97\n",
      "98\n",
      "99\n",
      "Rescaling\n",
      "Cropping images\n",
      "Spliting Data\n"
     ]
    }
   ],
   "source": [
    "train_f, val_f, test_f, train_tar_f, val_tar_f, test_tar_f = data_prep(train_split=0.8, val_split=0.001)"
   ]
  },
  {
   "cell_type": "code",
   "execution_count": 114,
   "id": "cordless-freeware",
   "metadata": {},
   "outputs": [
    {
     "data": {
      "text/plain": [
       "GradientBoostingRegressor(learning_rate=0.52, loss='huber', max_depth=14,\n",
       "                          min_samples_leaf=12, min_samples_split=43,\n",
       "                          n_estimators=77)"
      ]
     },
     "execution_count": 114,
     "metadata": {},
     "output_type": "execute_result"
    }
   ],
   "source": [
    "gbr_f = GradientBoostingRegressor(loss = 'huber', criterion='friedman_mse', \n",
    "                                 learning_rate = 0.52, max_depth = 14, min_samples_leaf=12, \n",
    "                                 min_samples_split=43, n_estimators=77)\n",
    "gbr_f.fit(train_f, train_tar_f)"
   ]
  },
  {
   "cell_type": "code",
   "execution_count": 94,
   "id": "obvious-flight",
   "metadata": {
    "collapsed": true
   },
   "outputs": [
    {
     "name": "stdout",
     "output_type": "stream",
     "text": [
      "[1.07629e-01 9.32712e-02 2.96518e-02 6.27670e-02 1.77191e-01 3.78682e-01\n",
      " 2.45329e-01 2.01028e-01 1.85275e-01 1.54909e-01 4.26993e-01 1.01232e-01\n",
      " 4.11659e-01 1.54206e-01 8.64655e-02 1.35554e-01 1.65802e-01 3.40599e-01\n",
      " 9.42061e-02 2.03224e-01 2.14548e-01 7.45248e-02 2.80704e-02 6.06830e-02\n",
      " 7.97516e-02 1.93469e-01 1.92091e-01 1.02789e-01 2.42140e-01 7.23853e-02\n",
      " 1.13293e-01 1.55562e-01 6.21721e-02 1.21154e-01 9.35557e-02 1.91654e-01\n",
      " 1.54030e-01 8.06582e-02 1.74050e-01 1.21902e-01 1.16919e-04 3.97817e-01\n",
      " 3.69824e-01 8.26984e-02 3.72977e-01 2.07861e-01 1.02818e-01 8.06183e-02\n",
      " 1.56971e-01 1.96482e-01 2.65986e-01 9.85964e-02 8.14887e-02 1.02503e-01\n",
      " 5.50072e-02 2.29181e-05 9.87905e-02 1.27305e-01 1.41100e-01 1.28601e-01\n",
      " 9.91663e-02 8.62614e-02 1.02663e-01 8.35386e-02 6.70942e-02 9.58625e-02\n",
      " 2.42678e-01 2.00655e-01 9.27522e-02 7.82815e-02 1.22900e-01 1.03157e-01\n",
      " 1.82126e-01 8.26856e-02 8.72169e-02 3.62558e-01 6.28708e-01 6.18287e-02\n",
      " 4.14493e-02]\n"
     ]
    }
   ],
   "source": [
    "print(train_tar_f)"
   ]
  },
  {
   "cell_type": "code",
   "execution_count": null,
   "id": "german-cannon",
   "metadata": {},
   "outputs": [],
   "source": [
    "pred_test_f = gbr_f.predict(test_f)\n",
    "plt.scatter(test_tar_f, pred_test_f, alpha = 0.4)\n",
    "plt.plot([0,1],[0,1], color = 'black')\n",
    "plt.xlim((0,1))\n",
    "plt.ylim((0,1))\n",
    "plt.xlabel('Targets')\n",
    "plt.ylabel('Predictions')\n",
    "plt.title('Test Final Run')\n",
    "plt.savefig('Test_Predict_f')"
   ]
  },
  {
   "cell_type": "code",
   "execution_count": 125,
   "id": "robust-attempt",
   "metadata": {},
   "outputs": [
    {
     "data": {
      "image/png": "[encoded data removed]",
      "text/plain": [
       "<Figure size 432x288 with 1 Axes>"
      ]
     },
     "metadata": {
      "needs_background": "light"
     },
     "output_type": "display_data"
    }
   ],
   "source": [
    "pred_train_f = gbr_f.predict(train_f)\n",
    "plt.scatter(train_tar_f, pred_train_f, alpha = 0.4)\n",
    "plt.plot([0,1],[0,1], color = 'black')\n",
    "plt.xlim((0,1))\n",
    "plt.ylim((0,1))\n",
    "plt.xlabel('Targets')\n",
    "plt.ylabel('Predictions')\n",
    "plt.title('Test Final Run')\n",
    "plt.savefig('Train_Predict_f')"
   ]
  },
  {
   "cell_type": "code",
   "execution_count": null,
   "id": "cheap-maria",
   "metadata": {},
   "outputs": [],
   "source": [
    "gbr_f_1 = GradientBoostingRegressor(loss = 'huber', criterion='friedman_mse', \n",
    "                                 learning_rate = 0.52, max_depth = 14, min_samples_leaf=180, \n",
    "                                 min_samples_split=650, n_estimators=77)\n",
    "gbr_f_1.fit(train_f, train_tar_f)"
   ]
  },
  {
   "cell_type": "code",
   "execution_count": 1,
   "id": "suspended-policy",
   "metadata": {},
   "outputs": [],
   "source": [
    "import numpy as np\n",
    "import matplotlib.pyplot as plt\n",
    "import matplotlib.image as mpimg\n",
    "%matplotlib inline\n",
    "import glob\n",
    "import nums_from_string\n",
    "from sklearn.model_selection import train_test_split\n",
    "from sklearn.ensemble import RandomForestRegressor\n",
    "from sklearn.neural_network import MLPRegressor\n",
    "from statistics import mode, median\n",
    "from tensorflow.keras.models import Sequential\n",
    "from tensorflow.keras.utils import to_categorical\n",
    "from tensorflow.keras.layers import Dense, Conv2D, MaxPooling2D, Dropout, Flatten, BatchNormalization\n",
    "import tensorflow as tf\n",
    "import kerastuner as kt\n",
    "\n",
    "def createHoyleModel():\n",
    "    model = Sequential()\n",
    "    model.add(Conv2D(5, (5, 5), padding='same', input_shape=(60,60,3)))\n",
    "    model.add(MaxPooling2D(pool_size=(3, 3)))\n",
    "    model.add(BatchNormalization())\n",
    "    model.add(Conv2D(128, (3, 3), activation='relu'))\n",
    "    #model.add(MaxPooling2D(pool_size=(3, 3)))\n",
    "    model.add(BatchNormalization())\n",
    "    model.add(Conv2D(64, (3, 3), activation='relu'))\n",
    "    model.add(MaxPooling2D(pool_size=(3, 3)))\n",
    "#    these two layers causes negative dimension size\n",
    "#    model.add(Conv2D(256, (3, 3), activation='relu'))\n",
    "#    model.add(MaxPooling2D(pool_size=(3, 3)))\n",
    "    model.add(Flatten())\n",
    "    model.add(Dense(500, activation='relu'))\n",
    "    model.add(Dropout(0.2))\n",
    "    model.add(Dense(500, activation='relu'))\n",
    "    model.add(Dropout(0.2))\n",
    "    model.add(Dense(1, activation='linear'))\n",
    "    return model\n",
    "\n"
   ]
  },
  {
   "cell_type": "code",
   "execution_count": 2,
   "id": "tested-payment",
   "metadata": {},
   "outputs": [],
   "source": [
    "import os\n",
    "os.environ['CUDA_VISIBLE_DEVICES'] = '-1'"
   ]
  },
  {
   "cell_type": "code",
   "execution_count": 3,
   "id": "naval-capacity",
   "metadata": {
    "scrolled": false
   },
   "outputs": [
    {
     "name": "stdout",
     "output_type": "stream",
     "text": [
      "Reading Data\n",
      "1\n",
      "2\n",
      "3\n",
      "4\n",
      "5\n",
      "6\n",
      "7\n",
      "8\n",
      "9\n",
      "10\n",
      "11\n",
      "12\n",
      "13\n",
      "14\n",
      "15\n",
      "16\n",
      "17\n",
      "18\n",
      "19\n",
      "20\n",
      "21\n",
      "22\n",
      "23\n",
      "24\n",
      "25\n",
      "26\n",
      "27\n",
      "28\n",
      "29\n",
      "30\n",
      "31\n",
      "32\n",
      "33\n",
      "34\n",
      "35\n",
      "36\n",
      "37\n",
      "38\n",
      "39\n",
      "40\n",
      "41\n",
      "42\n",
      "43\n",
      "44\n",
      "45\n",
      "46\n",
      "47\n",
      "48\n",
      "49\n",
      "50\n",
      "51\n",
      "52\n",
      "53\n",
      "54\n",
      "55\n",
      "56\n",
      "57\n",
      "58\n",
      "59\n",
      "60\n",
      "61\n",
      "62\n",
      "63\n",
      "64\n",
      "65\n",
      "66\n",
      "67\n",
      "68\n",
      "69\n",
      "70\n",
      "71\n",
      "72\n",
      "73\n",
      "74\n",
      "75\n",
      "76\n",
      "77\n",
      "78\n",
      "79\n",
      "80\n",
      "81\n",
      "82\n",
      "83\n",
      "84\n",
      "85\n",
      "86\n",
      "87\n",
      "88\n",
      "89\n",
      "90\n",
      "91\n",
      "92\n",
      "93\n",
      "94\n",
      "95\n",
      "96\n",
      "97\n",
      "98\n",
      "99\n",
      "Rescaling\n",
      "Cropping images\n",
      "Spliting Data\n",
      "(34631, 10800) (11545, 10800) (11544, 10800) (34631,) (11545,) (11544,)\n"
     ]
    }
   ],
   "source": [
    "def get_redshifts(filelist, number_of_images = 57720, rot = False, flip = False):\n",
    "    num_string = nums_from_string.get_nums(filelist[0])\n",
    "    if len(num_string) == 2:\n",
    "        z = np.array(num_string[1])\n",
    "    if len(num_string) == 3:\n",
    "        z = np.array(num_string[1]*10**(num_string[2]))\n",
    "    if rot:\n",
    "        for j in [1,2,3]:\n",
    "            if len(num_string) == 2:\n",
    "                z = np.append(z, num_string[1])\n",
    "            if len(num_string) == 3:\n",
    "                z = np.append(z, num_string[1]*10**(num_string[2]))\n",
    "    if flip:\n",
    "        if len(num_string) == 2:\n",
    "            z = np.append(z, num_string[1])\n",
    "        if len(num_string) == 3:\n",
    "            z = np.append(z, num_string[1]*10**(num_string[2]))\n",
    "        if rot:\n",
    "            for j in [1,2,3]:\n",
    "                if len(num_string) == 2:\n",
    "                    z = np.append(z, num_string[1])\n",
    "                if len(num_string) == 3:\n",
    "                    z = np.append(z, num_string[1]*10**(num_string[2]))\n",
    "    for i in np.arange(1,number_of_images):\n",
    "        num_string = nums_from_string.get_nums(filelist[i])\n",
    "        if len(num_string) == 2:\n",
    "            z = np.append(z, num_string[1])\n",
    "        if len(num_string) == 3:\n",
    "            z = np.append(z, num_string[1]*10**(num_string[2]))\n",
    "        if rot:\n",
    "            for j in [1,2,3]:\n",
    "                if len(num_string) == 2:\n",
    "                    z = np.append(z, num_string[1])\n",
    "                if len(num_string) == 3:\n",
    "                    z = np.append(z, num_string[1]*10**(num_string[2]))\n",
    "        if flip:\n",
    "            if len(num_string) == 2:\n",
    "                z = np.append(z, num_string[1])\n",
    "            if len(num_string) == 3:\n",
    "                z = np.append(z, num_string[1]*10**(num_string[2]))\n",
    "            if rot:\n",
    "                for j in [1,2,3]:\n",
    "                    if len(num_string) == 2:\n",
    "                        z = np.append(z, num_string[1])\n",
    "                    if len(num_string) == 3:\n",
    "                        z = np.append(z, num_string[1]*10**(num_string[2]))              \n",
    "    return z\n",
    "\n",
    "def get_images(filelist, number_of_images = 57720, rot = False, flip = False):\n",
    "    _ = np.expand_dims(mpimg.imread(filelist[0]).astype(float), axis = 0)\n",
    "    jpgs = []\n",
    "    jpgs.append(_)\n",
    "    \n",
    "    if rot:\n",
    "        for j in [1,2,3]:\n",
    "            _ = np.rot90(_, j, axes = (1,2))\n",
    "            jpgs = np.concatenate((jpgs, _))\n",
    "                \n",
    "    if flip:\n",
    "        _ = np.flip(_, 1)\n",
    "        jpgs = np.concatenate((jpgs, _))\n",
    "        if rot:\n",
    "            for j in [1,2,3]:\n",
    "                _ = np.rot90(_, j, axes = (1,2))\n",
    "                jpgs = np.concatenate((jpgs, _))\n",
    "                \n",
    "    x=1\n",
    "    y=1\n",
    "    w = number_of_images\n",
    "    mod = w/100\n",
    "    \n",
    "    for i in filelist[1:number_of_images]:\n",
    "        \n",
    "        if int(x % mod) == 0:\n",
    "            print(y)\n",
    "            y = y+1\n",
    "        \n",
    "        _ = np.expand_dims(mpimg.imread(i), axis = 0)\n",
    "        jpgs.append(_)\n",
    "        \n",
    "        if rot:\n",
    "            for j in [1,2,3]:\n",
    "                _ = np.rot90(_, j, axes = (1,2))\n",
    "                jpgs = np.concatenate((jpgs, _))\n",
    "                \n",
    "        if flip:\n",
    "            _ = np.flip(_, 1)\n",
    "            jpgs = np.concatenate((jpgs, _))\n",
    "            if rot:\n",
    "                for j in [1,2,3]:\n",
    "                    _ = np.rot90(_, j, axes = (1,2))\n",
    "                    jpgs = np.concatenate((jpgs, _))\n",
    "        x = x+1\n",
    "                    \n",
    "    z = get_redshifts(filelist, number_of_images, rot, flip)\n",
    "    jpgs = np.stack(jpgs)\n",
    "    return jpgs.reshape(number_of_images,72,72,3), z\n",
    "    \n",
    "def center_crop(a, width = 60):\n",
    "    x = int(36-width/2)\n",
    "    y = int(36+width/2)\n",
    "    a = a[:,x:y,x:y,:]\n",
    "    return a\n",
    "\n",
    "def random_crop(a, width = 60):\n",
    "    m = width/2\n",
    "    n = 72 - width/2\n",
    "    b = np.zeros((len(a), width, width, 3))\n",
    "    for i in np.arange(len(b)):\n",
    "        z = np.random.randint(m,n)\n",
    "        x = int(z-width/2)\n",
    "        y = int(z+width/2)\n",
    "        b[i] = a[i,x:y,x:y,:]\n",
    "    return b\n",
    "\n",
    "def crop(a, width = 60):\n",
    "    m = width//2\n",
    "    n = 72 - width//2\n",
    "    b = np.zeros((len(a), width, width, 3))\n",
    "    c = np.zeros((width, width))\n",
    "    for i in np.arange(len(a)):\n",
    "        c = np.sum(a[i], axis = 2)\n",
    "        ind = list(np.unravel_index(np.argmax(c, axis=None), c.shape))\n",
    "       \tfor j in [0,1]:\n",
    "            if ind[j] < m:\n",
    "                ind[j] = m\n",
    "            elif ind[j] > n:\n",
    "                ind[j] = n\n",
    "        x0 = ind[0]-m\n",
    "        x1 = x0+width\n",
    "        y0 = ind[1]-m\n",
    "        y1 = y0+width\n",
    "        b[i] = a[i,x0:x1,y0:y1,:]\n",
    "    return b\n",
    "    \n",
    "def unison_shuffle(a, b):\n",
    "    assert len(a) == len(b)\n",
    "    p = np.random.permutation(len(a))\n",
    "    return a[p], b[p]\n",
    "\n",
    "def rescaling(data):\n",
    "    data = data\n",
    "    for i in np.arange(len(data)):\n",
    "        data[i] = np.amax(data[i]) - data[i]\n",
    "        data[i] = data[i] / np.amax(data[i])\n",
    "    return data\n",
    "\n",
    "def reshape(a, width):\n",
    "    length = len(a)\n",
    "    return np.reshape(a, (length,(width**2)*3))\n",
    "\n",
    "def split(data, targets, trainsplit = 0.6, valsplit = 0.2, shuffle=True):\n",
    "    train, test, traintar, testtar = train_test_split(data, targets, train_size=trainsplit+valsplit, shuffle=shuffle)\n",
    "    train, val, traintar, valtar = train_test_split(train, traintar, train_size=trainsplit/(trainsplit+valsplit), shuffle=shuffle) \n",
    "    return train, val, test, traintar, valtar, testtar\n",
    "\n",
    "def data_prep(num = 57720, width = 60, train_split= 0.6, val_split = 0.2, rot = False, flip = False, shuf = False, ran_crop = False, cen_crop = False):\n",
    "    # np.random.seed(1684)\n",
    "    filelist = glob.glob(\"sdss_images/*.jpg\")\n",
    "    print('Reading Data')\n",
    "    dat, tar = get_images(filelist, num, rot, flip)\n",
    "    print('Rescaling')\n",
    "    dat = rescaling(dat)\n",
    "    print('Cropping images')\n",
    "    if ran_crop:\n",
    "        dat = random_crop(dat, width)\n",
    "    elif cen_crop:\n",
    "        dat = center_crop(dat, width)   \n",
    "    else:\n",
    "        dat = crop(dat, width)\n",
    "    if shuf:\n",
    "        dat, tar = unison_shuffle(dat, tar)\n",
    "    dat = reshape(dat,width)\n",
    "    print('Spliting Data')\n",
    "    if shuf:\n",
    "        train, val, testtest, train_tar, val_tar, test_tar = split(dat, tar, train_split, val_split, shuffle = False)\n",
    "    else:\n",
    "        train, val, testtest, train_tar, val_tar, test_tar = split(dat, tar, train_split, val_split)\n",
    "    return train, val, testtest, train_tar, val_tar, test_tar\n",
    "\n",
    "\n",
    "\n",
    "\n",
    "\n",
    "train, val, test, train_tar, val_tar, test_tar = data_prep(width = 60)\n",
    "print(np.shape(train), np.shape(val), np.shape(test), np.shape(train_tar), np.shape(val_tar), np.shape(test_tar))\n",
    "\n"
   ]
  },
  {
   "cell_type": "code",
   "execution_count": 4,
   "id": "vital-smile",
   "metadata": {},
   "outputs": [],
   "source": [
    "def npNearest(array1,array2):\n",
    "    diff = np.abs(array1-array2.reshape(len(array2),1))\n",
    "    idx = diff.argmin(axis=1)\n",
    "    return idx"
   ]
  },
  {
   "cell_type": "code",
   "execution_count": 5,
   "id": "surrounded-fluid",
   "metadata": {},
   "outputs": [],
   "source": [
    "def oneHot(inputArray,nbins,rclasses):\n",
    "    indices = np.zeros((len(inputArray),2),dtype=int)\n",
    "    indices[:, 0] = np.arange(0,len(inputArray))\n",
    "    targets = inputArray #np.around(inputArray * nbins).astype(int)\n",
    "    idx = npNearest(rclasses,targets)\n",
    "    indices[:, 1] = idx\n",
    "    oneHot = np.zeros((len(inputArray),nbins))\n",
    "    oneHot[indices[:,0],indices[:,1]] = 1.0\n",
    "    return oneHot"
   ]
  },
  {
   "cell_type": "code",
   "execution_count": 36,
   "id": "derived-probe",
   "metadata": {},
   "outputs": [],
   "source": [
    "def createHoyleModel():\n",
    "    model = Sequential()\n",
    "    model.add(Conv2D(10, (5, 5), padding='same', input_shape=(60,60,3)))\n",
    "    model.add(MaxPooling2D(pool_size=(3, 3)))\n",
    "    model.add(BatchNormalization())\n",
    "    model.add(Conv2D(32, (3, 3), activation='relu'))\n",
    "    #model.add(MaxPooling2D(pool_size=(3, 3)))\n",
    "    model.add(BatchNormalization())\n",
    "    model.add(Conv2D(64, (3, 3), activation='relu'))\n",
    "#    model.add(MaxPooling2D(pool_size=(3, 3)))\n",
    "#    these two layers causes negative dimension size\n",
    "    model.add(Conv2D(128, (3, 3), activation='relu'))\n",
    "    model.add(MaxPooling2D(pool_size=(3, 3)))\n",
    "    model.add(Flatten())\n",
    "    model.add(Dense(500, activation='relu'))\n",
    "    model.add(Dropout(0.2))\n",
    "    model.add(Dense(500, activation='relu'))\n",
    "    model.add(Dropout(0.2))\n",
    "    model.add(Dense(1, activation='linear', bias_initializer='ones'))\n",
    "    return model"
   ]
  },
  {
   "cell_type": "code",
   "execution_count": 37,
   "id": "united-stamp",
   "metadata": {},
   "outputs": [
    {
     "name": "stdout",
     "output_type": "stream",
     "text": [
      "Model: \"sequential_4\"\n",
      "_________________________________________________________________\n",
      "Layer (type)                 Output Shape              Param #   \n",
      "=================================================================\n",
      "conv2d_15 (Conv2D)           (None, 60, 60, 10)        760       \n",
      "_________________________________________________________________\n",
      "max_pooling2d_8 (MaxPooling2 (None, 20, 20, 10)        0         \n",
      "_________________________________________________________________\n",
      "batch_normalization_8 (Batch (None, 20, 20, 10)        40        \n",
      "_________________________________________________________________\n",
      "conv2d_16 (Conv2D)           (None, 18, 18, 32)        2912      \n",
      "_________________________________________________________________\n",
      "batch_normalization_9 (Batch (None, 18, 18, 32)        128       \n",
      "_________________________________________________________________\n",
      "conv2d_17 (Conv2D)           (None, 16, 16, 64)        18496     \n",
      "_________________________________________________________________\n",
      "conv2d_18 (Conv2D)           (None, 14, 14, 128)       73856     \n",
      "_________________________________________________________________\n",
      "max_pooling2d_9 (MaxPooling2 (None, 4, 4, 128)         0         \n",
      "_________________________________________________________________\n",
      "flatten_4 (Flatten)          (None, 2048)              0         \n",
      "_________________________________________________________________\n",
      "dense_12 (Dense)             (None, 500)               1024500   \n",
      "_________________________________________________________________\n",
      "dropout_8 (Dropout)          (None, 500)               0         \n",
      "_________________________________________________________________\n",
      "dense_13 (Dense)             (None, 500)               250500    \n",
      "_________________________________________________________________\n",
      "dropout_9 (Dropout)          (None, 500)               0         \n",
      "_________________________________________________________________\n",
      "dense_14 (Dense)             (None, 1)                 501       \n",
      "=================================================================\n",
      "Total params: 1,371,693\n",
      "Trainable params: 1,371,609\n",
      "Non-trainable params: 84\n",
      "_________________________________________________________________\n"
     ]
    }
   ],
   "source": [
    "# Instantiate the model\n",
    "hoyle_model = createHoyleModel()\n",
    "# Keep these defaults\n",
    "hoyle_model.compile(optimizer=tf.keras.optimizers.Adam(learning_rate=0.0005),\n",
    "                    loss=tf.keras.losses.MSE,\n",
    "                    metrics=[tf.keras.metrics.RootMeanSquaredError()])\n",
    "\n",
    "hoyle_model.summary()\n"
   ]
  },
  {
   "cell_type": "code",
   "execution_count": 38,
   "id": "introductory-boards",
   "metadata": {},
   "outputs": [
    {
     "name": "stdout",
     "output_type": "stream",
     "text": [
      "(34631,)\n"
     ]
    }
   ],
   "source": [
    "#redshift_classes = np.exp(np.linspace(-5, np.log(3.0), 100))\n",
    "redshift_classes = np.linspace(0, 3.0, 100)\n",
    "\n",
    "trainre = train.reshape((train.shape[0],60,60,3))\n",
    "testre = test.reshape((test.shape[0],60,60,3))\n",
    "valre = val.reshape((val.shape[0],60,60,3))\n",
    "\n",
    "train_tarO = oneHot(train_tar,100,redshift_classes)\n",
    "test_tarO = oneHot(test_tar,100,redshift_classes)\n",
    "val_tarO = oneHot(val_tar,100,redshift_classes)\n",
    "print(train_tar.shape)"
   ]
  },
  {
   "cell_type": "code",
   "execution_count": 51,
   "id": "under-grass",
   "metadata": {
    "scrolled": true
   },
   "outputs": [
    {
     "name": "stdout",
     "output_type": "stream",
     "text": [
      "Epoch 1/2\n",
      "1083/1083 - 56s - loss: 0.0072 - root_mean_squared_error: 0.0849 - val_loss: 0.0073 - val_root_mean_squared_error: 0.0852\n",
      "Epoch 2/2\n",
      "1083/1083 - 57s - loss: 0.0069 - root_mean_squared_error: 0.0833 - val_loss: 0.0071 - val_root_mean_squared_error: 0.0843\n"
     ]
    }
   ],
   "source": [
    "# Train the model\n",
    "batch_size = 32 # for lack of a better choice\n",
    "# epochs = 100 # also a hyperparameter, but Hoyle says he ran it 100 times.\n",
    "num_epochs = 2\n",
    "history = hoyle_model.fit(trainre, train_tar, epochs=num_epochs, batch_size= batch_size,\n",
    "              validation_data=(valre, val_tar),verbose=2)"
   ]
  },
  {
   "cell_type": "code",
   "execution_count": 40,
   "id": "committed-checklist",
   "metadata": {},
   "outputs": [
    {
     "name": "stdout",
     "output_type": "stream",
     "text": [
      "rms = 0.10164458550952589\n",
      "mean = -0.023368175662220297\n",
      "stdv = 0.09892193957673362\n"
     ]
    },
    {
     "data": {
      "text/plain": [
       "Text(0.5, 1.0, 'Test Final Run v2')"
      ]
     },
     "execution_count": 40,
     "metadata": {},
     "output_type": "execute_result"
    },
    {
     "data": {
      "image/png": "[encoded data removed]",
      "text/plain": [
       "<Figure size 432x288 with 1 Axes>"
      ]
     },
     "metadata": {
      "needs_background": "light"
     },
     "output_type": "display_data"
    }
   ],
   "source": [
    "a = np.reshape(hoyle_model.predict(testre),11544)\n",
    "b = test_tar\n",
    "c = a-b\n",
    "print('rms = ' + str(np.sqrt(np.mean(np.power(c,2)))))\n",
    "print('mean = ' + str(np.mean(c)))\n",
    "print('stdv = ' + str(np.sqrt(np.var(c))))\n",
    "\n",
    "# print(a)\n",
    "plt.scatter(b, a, alpha = 0.3)\n",
    "plt.plot([0,1],[0,1], color = 'black')\n",
    "\n",
    "plt.xlim((0,1))\n",
    "plt.ylim((0,1))\n",
    "plt.xlabel('Targets')\n",
    "plt.ylabel('Predictions')\n",
    "plt.title('Test Final Run v2')"
   ]
  },
  {
   "cell_type": "code",
   "execution_count": 52,
   "id": "hungarian-response",
   "metadata": {},
   "outputs": [
    {
     "data": {
      "text/plain": [
       "dict_keys(['loss', 'root_mean_squared_error', 'val_loss', 'val_root_mean_squared_error'])"
      ]
     },
     "execution_count": 52,
     "metadata": {},
     "output_type": "execute_result"
    }
   ],
   "source": [
    "history.history.keys()"
   ]
  },
  {
   "cell_type": "code",
   "execution_count": 54,
   "id": "rising-vertex",
   "metadata": {},
   "outputs": [
    {
     "data": {
      "text/plain": [
       "[<matplotlib.lines.Line2D at 0x1b846a5eb80>]"
      ]
     },
     "execution_count": 54,
     "metadata": {},
     "output_type": "execute_result"
    },
    {
     "data": {
      "image/png": "[encoded data removed]",
      "text/plain": [
       "<Figure size 432x288 with 1 Axes>"
      ]
     },
     "metadata": {
      "needs_background": "light"
     },
     "output_type": "display_data"
    }
   ],
   "source": [
    "plt.plot(history.history['val_root_mean_squared_error'])\n",
    "plt.plot(history.history['root_mean_squared_error'])"
   ]
  },
  {
   "cell_type": "code",
   "execution_count": null,
   "id": "limited-opening",
   "metadata": {},
   "outputs": [],
   "source": []
  }
 ],
 "metadata": {
  "kernelspec": {
   "display_name": "Python 3",
   "language": "python",
   "name": "python3"
  },
  "language_info": {
   "codemirror_mode": {
    "name": "ipython",
    "version": 3
   },
   "file_extension": ".py",
   "mimetype": "text/x-python",
   "name": "python",
   "nbconvert_exporter": "python",
   "pygments_lexer": "ipython3",
   "version": "3.8.8"
  }
 },
 "nbformat": 4,
 "nbformat_minor": 5
}
